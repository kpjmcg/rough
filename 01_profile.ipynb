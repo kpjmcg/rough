{
 "cells": [
  {
   "cell_type": "code",
   "execution_count": null,
   "id": "86e39749-7ed4-45f3-9e0b-81c54b1dca4b",
   "metadata": {},
   "outputs": [],
   "source": [
    "%load_ext autoreload\n",
    "%autoreload 2"
   ]
  },
  {
   "cell_type": "code",
   "execution_count": null,
   "id": "365527ae-ed38-497f-a47b-286d3eec15e0",
   "metadata": {},
   "outputs": [],
   "source": [
    "#| default_exp profile"
   ]
  },
  {
   "cell_type": "markdown",
   "id": "50b9da07-24d4-400c-a9bd-b006a8cceb3f",
   "metadata": {},
   "source": [
    "# Profile\n",
    "\n",
    "> Set of functions for calculating roughness parameters along profiles "
   ]
  },
  {
   "cell_type": "code",
   "execution_count": null,
   "id": "1230107c-c8f4-4159-a61d-9102d143f183",
   "metadata": {},
   "outputs": [],
   "source": [
    "#| hide\n",
    "from nbdev.showdoc import *"
   ]
  },
  {
   "cell_type": "code",
   "execution_count": null,
   "id": "ebc07671-d136-46bd-a2a3-52ea1f7120bd",
   "metadata": {},
   "outputs": [],
   "source": [
    "#| export\n",
    "import numpy as np\n",
    "from rough.data import *"
   ]
  },
  {
   "cell_type": "code",
   "execution_count": null,
   "id": "6d571b0f-2419-43a3-9669-b0a6b3bba0c0",
   "metadata": {},
   "outputs": [],
   "source": [
    "#| export\n",
    "def Ra(im, #Numpy array or arraylike\n",
    "       axis = 1, #Default to Ra of rows\n",
    "       norm = True #Normalize the profile by subtracting the mean \n",
    "      ):\n",
    "    '''\n",
    "    Calculates Mean Absolute Roughness (Ra) along given axis. Defined as the average deviation of absolute height values from the mean line.\n",
    "    '''\n",
    "    if norm:\n",
    "        im = im - np.mean(im, axis = axis, keepdims = True)\n",
    "    return np.mean(np.absolute(im), axis = axis)"
   ]
  },
  {
   "cell_type": "code",
   "execution_count": null,
   "id": "d018b49a-795d-4cf4-a1ab-4020fb2ac158",
   "metadata": {},
   "outputs": [],
   "source": [
    "#| export\n",
    "def Rms(im, #Numpy array or array like\n",
    "        axis = 1, #Default to Rms of rows\n",
    "        norm = True #Normalize the profile by subtracting the mean\n",
    "       ):\n",
    "    '''\n",
    "    Calculates Root Mean Square Roughness (Rms) along given axis. Defined as the root mean square of deviations of height from the mean line of a given profile. \n",
    "    '''\n",
    "    if norm:\n",
    "        im = im - np.mean(im, axis = axis, keepdims = True)\n",
    "    return np.sqrt(np.mean(np.square(im), axis = axis))"
   ]
  },
  {
   "cell_type": "markdown",
   "id": "cb3395d1-d721-43ac-a474-f34094249bf0",
   "metadata": {},
   "source": [
    "# Rotational parameters\n",
    ">\n",
    ">The following functions return roughness parameters as rotated around the central point of the array.\n",
    ">Useful for investigating how roughness changes with respect to direction.\n",
    ">Uses OpenCV/imutils to rotate arrays,because the initial image/array dimensions are preserved \n",
    ">by default it gives an easy way to use the diameter of the central circle as the profile. \n",
    ">As these are mostly thin wrappers around standard parameters, it is recommended to generate\n",
    ">an array of rotational profiles using `gen_rot_prof` first and then using standard\n",
    ">paramaters above. This is highly recommended for very large arrays."
   ]
  },
  {
   "cell_type": "code",
   "execution_count": null,
   "id": "c1540e4b-cfb4-49e9-b0a2-2275631c7642",
   "metadata": {},
   "outputs": [],
   "source": [
    "def rot_Ra(array, axis=1, deg = 180, increment=1):\n",
    "    '''\n",
    "    Calculated rotational Ra for a given array\n",
    "    '''\n",
    "    return Ra(gen_rot_prof(array,deg=deg,increment=increment), axis = axis)"
   ]
  },
  {
   "cell_type": "code",
   "execution_count": null,
   "id": "70c9e52b-87b0-43b8-87d4-35e9ed18fd2b",
   "metadata": {},
   "outputs": [],
   "source": [
    "#| hide\n",
    "from nbdev import nbdev_export\n",
    "nbdev_export()"
   ]
  }
 ],
 "metadata": {
  "kernelspec": {
   "display_name": "Python 3 (ipykernel)",
   "language": "python",
   "name": "python3"
  }
 },
 "nbformat": 4,
 "nbformat_minor": 5
}
