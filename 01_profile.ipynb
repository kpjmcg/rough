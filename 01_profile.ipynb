{
 "cells": [
  {
   "cell_type": "code",
   "execution_count": null,
   "id": "365527ae-ed38-497f-a47b-286d3eec15e0",
   "metadata": {},
   "outputs": [],
   "source": [
    "#| default_exp profile"
   ]
  },
  {
   "cell_type": "markdown",
   "id": "50b9da07-24d4-400c-a9bd-b006a8cceb3f",
   "metadata": {},
   "source": [
    "# Profile\n",
    "\n",
    "> Set of functions for calculating roughness parameters "
   ]
  },
  {
   "cell_type": "code",
   "execution_count": null,
   "id": "1230107c-c8f4-4159-a61d-9102d143f183",
   "metadata": {},
   "outputs": [],
   "source": [
    "#|hide\n",
    "from nbdev.showdoc import *\n",
    "import numpy as np\n",
    "from PIL import Image "
   ]
  },
  {
   "cell_type": "code",
   "execution_count": null,
   "id": "96da95c5-72f3-4029-831e-f81365e4246a",
   "metadata": {},
   "outputs": [
    {
     "ename": "NameError",
     "evalue": "name 'numpy' is not defined",
     "output_type": "error",
     "traceback": [
      "\u001b[1;31m---------------------------------------------------------------------------\u001b[0m",
      "\u001b[1;31mNameError\u001b[0m                                 Traceback (most recent call last)",
      "Input \u001b[1;32mIn [5]\u001b[0m, in \u001b[0;36m<cell line: 1>\u001b[1;34m()\u001b[0m\n\u001b[1;32m----> 1\u001b[0m \u001b[38;5;28mtype\u001b[39m(np\u001b[38;5;241m.\u001b[39marray([\u001b[38;5;241m0.0\u001b[39m])) \u001b[38;5;241m==\u001b[39m \u001b[43mnumpy\u001b[49m\u001b[38;5;241m.\u001b[39mndarray\n",
      "\u001b[1;31mNameError\u001b[0m: name 'numpy' is not defined"
     ]
    }
   ],
   "source": [
    "type(np.array([0.0])) == numpy.ndarray"
   ]
  },
  {
   "cell_type": "code",
   "execution_count": null,
   "id": "543ae7ac-ad39-4777-924c-32cbcc7374b7",
   "metadata": {},
   "outputs": [
    {
     "data": {
      "text/plain": [
       "True"
      ]
     },
     "execution_count": null,
     "metadata": {},
     "output_type": "execute_result"
    }
   ],
   "source": [
    "isinstance(np.array([0.0]),np.ndarray)"
   ]
  },
  {
   "cell_type": "code",
   "execution_count": null,
   "id": "6bdf07ca-e29d-4b4b-bc98-c4125fcb704c",
   "metadata": {},
   "outputs": [
    {
     "data": {
      "text/plain": [
       "array([[-0.5, -1. ],\n",
       "       [ 2.5, -1. ]])"
      ]
     },
     "execution_count": null,
     "metadata": {},
     "output_type": "execute_result"
    }
   ],
   "source": [
    "test_array = np.array([[1,2,],[4,2]])\n",
    "np.mean(test_array, axis = 0)\n",
    "np.subtract(test_array, np.mean(test_array, axis = 1))"
   ]
  },
  {
   "cell_type": "code",
   "execution_count": null,
   "id": "3d40584a-c60b-47e2-9dd6-ef4437480ddf",
   "metadata": {},
   "outputs": [
    {
     "data": {
      "text/plain": [
       "array([3. , 3.5, 4. , 4.5, 5. ])"
      ]
     },
     "execution_count": null,
     "metadata": {},
     "output_type": "execute_result"
    }
   ],
   "source": [
    "test_array_2 = np.array([[1,2,3,4,5], [5,5,5,5,5]])\n",
    "np.mean(test_array_2, axis = 0)"
   ]
  },
  {
   "cell_type": "code",
   "execution_count": null,
   "id": "4ea40a0e-fd08-4c9c-b6a3-e39f5b6dd62f",
   "metadata": {},
   "outputs": [
    {
     "data": {
      "text/plain": [
       "array([[-2. , -1.5, -1. , -0.5,  0. ],\n",
       "       [ 2. ,  1.5,  1. ,  0.5,  0. ]])"
      ]
     },
     "execution_count": null,
     "metadata": {},
     "output_type": "execute_result"
    }
   ],
   "source": [
    "test_array_2 - np.mean(test_array_2,axis = 0)"
   ]
  },
  {
   "cell_type": "code",
   "execution_count": null,
   "id": "6d571b0f-2419-43a3-9669-b0a6b3bba0c0",
   "metadata": {},
   "outputs": [],
   "source": [
    "#|export\n",
    "def Ra(im, axis = 0, norm = True):\n",
    "    '''\n",
    "    Calculates Mean Absolute Roughness (Ra) along given axis. Calculated as the average deviation of absolute height values from the mean line of a given profile.\n",
    "    '''\n",
    "    if norm:\n",
    "        im = im - np.mean(im, axis = axis)\n",
    "    return np.mean(np.absolute(im))"
   ]
  },
  {
   "cell_type": "code",
   "execution_count": null,
   "id": "9a5a3d28-ed76-4bfe-b373-7e6d50180b0d",
   "metadata": {},
   "outputs": [
    {
     "data": {
      "text/plain": [
       "1.0"
      ]
     },
     "execution_count": null,
     "metadata": {},
     "output_type": "execute_result"
    }
   ],
   "source": [
    "Ra(test_array_2,norm = True)"
   ]
  },
  {
   "cell_type": "code",
   "execution_count": null,
   "id": "d018b49a-795d-4cf4-a1ab-4020fb2ac158",
   "metadata": {},
   "outputs": [],
   "source": [
    "#|export\n",
    "def Rms(im, axis = 0, norm = True):\n",
    "    '''\n",
    "    Calculates Root Mean Square Roughness (Rms) along given axis. Calculated as the root mean square of deviations of height from the mean line of a given profile. \n",
    "    '''\n",
    "    if norm:\n",
    "        im = im - np.mean(im, axis = axis)\n",
    "    return np.sqrt(np.mean(np.square(im), axis = axis))"
   ]
  },
  {
   "cell_type": "code",
   "execution_count": null,
   "id": "838ba353-55f4-4bea-bead-8ae6e83334ea",
   "metadata": {},
   "outputs": [
    {
     "data": {
      "text/markdown": [
       "---\n",
       "\n",
       "#### Ra\n",
       "\n",
       ">      Ra (im:numpy.ndarray, axis=0, norm=True)\n",
       "\n",
       "Calculates Mean Absolute Roughness (Ra)along given axis. Calculated as the average deviation of absolute height values from the mean line of a given profile."
      ],
      "text/plain": [
       "<nbdev.showdoc.BasicMarkdownRenderer>"
      ]
     },
     "execution_count": null,
     "metadata": {},
     "output_type": "execute_result"
    }
   ],
   "source": [
    "show_doc(Ra)"
   ]
  }
 ],
 "metadata": {
  "kernelspec": {
   "display_name": "Python 3 (ipykernel)",
   "language": "python",
   "name": "python3"
  }
 },
 "nbformat": 4,
 "nbformat_minor": 5
}
