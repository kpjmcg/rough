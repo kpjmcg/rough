{
 "cells": [
  {
   "cell_type": "code",
   "execution_count": null,
   "id": "86e39749-7ed4-45f3-9e0b-81c54b1dca4b",
   "metadata": {},
   "outputs": [],
   "source": [
    "%load_ext autoreload\n",
    "%autoreload 2"
   ]
  },
  {
   "cell_type": "code",
   "execution_count": null,
   "id": "365527ae-ed38-497f-a47b-286d3eec15e0",
   "metadata": {},
   "outputs": [],
   "source": [
    "#| default_exp profile"
   ]
  },
  {
   "cell_type": "markdown",
   "id": "50b9da07-24d4-400c-a9bd-b006a8cceb3f",
   "metadata": {},
   "source": [
    "# Profile\n",
    "\n",
    "> Set of functions for calculating roughness parameters along profiles "
   ]
  },
  {
   "cell_type": "code",
   "execution_count": null,
   "id": "1230107c-c8f4-4159-a61d-9102d143f183",
   "metadata": {},
   "outputs": [],
   "source": [
    "#| hide\n",
    "from nbdev.showdoc import *"
   ]
  },
  {
   "cell_type": "code",
   "execution_count": null,
   "id": "ebc07671-d136-46bd-a2a3-52ea1f7120bd",
   "metadata": {},
   "outputs": [],
   "source": [
    "#| export\n",
    "import numpy as np\n",
    "from PIL import Image  "
   ]
  },
  {
   "cell_type": "code",
   "execution_count": null,
   "id": "6d571b0f-2419-43a3-9669-b0a6b3bba0c0",
   "metadata": {},
   "outputs": [],
   "source": [
    "#| export\n",
    "def Ra(im, #Numpy array or arraylike\n",
    "       axis = 0, \n",
    "       norm = True #Normalize the profile by subtracting the mean \n",
    "      ):\n",
    "    '''\n",
    "    Calculates Mean Absolute Roughness (Ra) along given axis. Defined as the average deviation of absolute height values from the mean line.\n",
    "    '''\n",
    "    if norm:\n",
    "        im = im - np.mean(im, axis = axis)\n",
    "    return np.mean(np.absolute(im), axis = axis)"
   ]
  },
  {
   "cell_type": "code",
   "execution_count": null,
   "id": "fab9e76d-3796-4a53-8042-56f2caaaa49a",
   "metadata": {},
   "outputs": [],
   "source": [
    "from numpy.random import default_rng\n",
    "\n",
    "test_array = default_rng(42).random((10,10))"
   ]
  },
  {
   "cell_type": "code",
   "execution_count": null,
   "id": "e5130cbe-9259-4f0b-ae78-6131b418a487",
   "metadata": {},
   "outputs": [
    {
     "data": {
      "text/markdown": [
       "---\n",
       "\n",
       "#### Ra\n",
       "\n",
       ">      Ra (im, axis=0, norm=True)\n",
       "\n",
       "Calculates Mean Absolute Roughness (Ra) along given axis. Defined as the average deviation of absolute height values from the mean line of a given profile.\n",
       "\n",
       "|    | **Type** | **Default** | **Details** |\n",
       "| -- | -------- | ----------- | ----------- |\n",
       "| im |  |  | Numpy array or arraylike |\n",
       "| axis | int | 0 |  |\n",
       "| norm | bool | True | Normalize the profile by subtracting the mean |"
      ],
      "text/plain": [
       "<nbdev.showdoc.BasicMarkdownRenderer>"
      ]
     },
     "execution_count": null,
     "metadata": {},
     "output_type": "execute_result"
    }
   ],
   "source": [
    "show_doc(Ra)"
   ]
  },
  {
   "cell_type": "code",
   "execution_count": null,
   "id": "d018b49a-795d-4cf4-a1ab-4020fb2ac158",
   "metadata": {},
   "outputs": [],
   "source": [
    "#| export\n",
    "def Rms(im, #Numpy array or array like\n",
    "        axis = 0, \n",
    "        norm = True #Normalize the profile by subtracting the mean\n",
    "       ):\n",
    "    '''\n",
    "    Calculates Root Mean Square Roughness (Rms) along given axis. Defined as the root mean square of deviations of height from the mean line of a given profile. \n",
    "    '''\n",
    "    if norm:\n",
    "        im = im - np.mean(im, axis = axis)\n",
    "    return np.sqrt(np.mean(np.square(im), axis = axis))"
   ]
  },
  {
   "cell_type": "markdown",
   "id": "cb3395d1-d721-43ac-a474-f34094249bf0",
   "metadata": {},
   "source": [
    "# Rotational parameters\n",
    ">\n",
    ">The following functions return roughness parameters as rotated around the central point of the array.\n",
    ">Useful for investigating how roughness changes with respect to direction.\n",
    ">Uses pillow's image rotation to produce new arrays, because pillow preserves the initial image dimensions \n",
    ">by default it gives an easy way to use the diameter of the circle as the profile. \n",
    "> "
   ]
  },
  {
   "cell_type": "code",
   "execution_count": null,
   "id": "c1540e4b-cfb4-49e9-b0a2-2275631c7642",
   "metadata": {},
   "outputs": [
    {
     "ename": "SyntaxError",
     "evalue": "'(' was never closed (1478524782.py, line 18)",
     "output_type": "error",
     "traceback": [
      "\u001b[1;36m  Input \u001b[1;32mIn [52]\u001b[1;36m\u001b[0m\n\u001b[1;33m    param(array[center,:],  #need to add kwargs and such\u001b[0m\n\u001b[1;37m         ^\u001b[0m\n\u001b[1;31mSyntaxError\u001b[0m\u001b[1;31m:\u001b[0m '(' was never closed\n"
     ]
    }
   ],
   "source": []
  },
  {
   "cell_type": "code",
   "execution_count": null,
   "id": "61d72d74-f21d-410e-8509-7e4e8fee848a",
   "metadata": {},
   "outputs": [
    {
     "ename": "TypeError",
     "evalue": "'float' object cannot be interpreted as an integer",
     "output_type": "error",
     "traceback": [
      "\u001b[1;31m---------------------------------------------------------------------------\u001b[0m",
      "\u001b[1;31mTypeError\u001b[0m                                 Traceback (most recent call last)",
      "Input \u001b[1;32mIn [40]\u001b[0m, in \u001b[0;36m<cell line: 1>\u001b[1;34m()\u001b[0m\n\u001b[1;32m----> 1\u001b[0m \u001b[43mrotational_param\u001b[49m\u001b[43m(\u001b[49m\u001b[43m[\u001b[49m\u001b[38;5;241;43m1\u001b[39;49m\u001b[43m,\u001b[49m\u001b[38;5;241;43m2\u001b[39;49m\u001b[43m,\u001b[49m\u001b[38;5;241;43m3\u001b[39;49m\u001b[43m]\u001b[49m\u001b[43m,\u001b[49m\u001b[43m \u001b[49m\u001b[43mdeg\u001b[49m\u001b[43m \u001b[49m\u001b[38;5;241;43m=\u001b[39;49m\u001b[43m \u001b[49m\u001b[38;5;241;43m70\u001b[39;49m\u001b[43m,\u001b[49m\u001b[43m \u001b[49m\u001b[43mindent\u001b[49m\u001b[43m \u001b[49m\u001b[38;5;241;43m=\u001b[39;49m\u001b[43m \u001b[49m\u001b[38;5;241;43m3.5\u001b[39;49m\u001b[43m)\u001b[49m\n",
      "Input \u001b[1;32mIn [35]\u001b[0m, in \u001b[0;36mrotational_param\u001b[1;34m(array, param, deg, indent)\u001b[0m\n\u001b[0;32m      7\u001b[0m \u001b[38;5;28;01mif\u001b[39;00m deg \u001b[38;5;241m%\u001b[39m indent \u001b[38;5;241m!=\u001b[39m \u001b[38;5;241m0\u001b[39m:\n\u001b[0;32m      8\u001b[0m     \u001b[38;5;28;01mraise\u001b[39;00m \u001b[38;5;167;01mValueError\u001b[39;00m(\u001b[38;5;124m'\u001b[39m\u001b[38;5;124mCannot sample evenly, deg \u001b[39m\u001b[38;5;132;01m% i\u001b[39;00m\u001b[38;5;124mndent must = 0\u001b[39m\u001b[38;5;124m'\u001b[39m)\n\u001b[1;32m----> 9\u001b[0m \u001b[38;5;28;01mfor\u001b[39;00m degree \u001b[38;5;129;01min\u001b[39;00m \u001b[38;5;28;43mrange\u001b[39;49m\u001b[43m(\u001b[49m\u001b[38;5;241;43m0\u001b[39;49m\u001b[43m,\u001b[49m\u001b[43mdeg\u001b[49m\u001b[43m,\u001b[49m\u001b[43m \u001b[49m\u001b[43mindent\u001b[49m\u001b[43m)\u001b[49m:\n\u001b[0;32m     10\u001b[0m     \u001b[38;5;28;01mpass\u001b[39;00m\n",
      "\u001b[1;31mTypeError\u001b[0m: 'float' object cannot be interpreted as an integer"
     ]
    }
   ],
   "source": [
    "rotational_param([1,2,3], deg = 70, indent = 3.5)"
   ]
  },
  {
   "cell_type": "code",
   "execution_count": null,
   "id": "e0c74355-dc40-4495-a703-723de03359b5",
   "metadata": {},
   "outputs": [
    {
     "data": {
      "text/plain": [
       "3"
      ]
     },
     "execution_count": null,
     "metadata": {},
     "output_type": "execute_result"
    }
   ],
   "source": [
    "test_array = np.array([1,2,3,4,5,6])\n",
    "center = test_array.shape[0]//2\n",
    "#test_array[center]\n",
    "test_array.shape[0]//2"
   ]
  },
  {
   "cell_type": "code",
   "execution_count": null,
   "id": "70c9e52b-87b0-43b8-87d4-35e9ed18fd2b",
   "metadata": {},
   "outputs": [],
   "source": [
    "#| hide\n",
    "from nbdev import nbdev_export\n",
    "nbdev_export()"
   ]
  },
  {
   "cell_type": "code",
   "execution_count": null,
   "id": "be471ef0-897b-4d3f-8d17-d534a4755c2f",
   "metadata": {},
   "outputs": [
    {
     "name": "stdout",
     "output_type": "stream",
     "text": [
      "bingo\n"
     ]
    }
   ],
   "source": [
    "f_list = []\n",
    "for func in f_list:\n",
    "    func('bingo')"
   ]
  },
  {
   "cell_type": "code",
   "execution_count": null,
   "id": "be06f9a7-7a3d-471d-bacc-ff24a5f1133e",
   "metadata": {},
   "outputs": [],
   "source": [
    "def test_print(string='hello', repeat = 1):\n",
    "    return print(string * repeat)"
   ]
  },
  {
   "cell_type": "code",
   "execution_count": null,
   "id": "88b88e4f-7748-4e5b-9d4c-cf7d37d3b275",
   "metadata": {},
   "outputs": [],
   "source": [
    "def more_print(func):\n",
    "    return(func(repeat=5))"
   ]
  },
  {
   "cell_type": "code",
   "execution_count": null,
   "id": "23f22582-601f-4736-9388-788960e1a5f7",
   "metadata": {},
   "outputs": [
    {
     "name": "stdout",
     "output_type": "stream",
     "text": [
      "bing\n"
     ]
    },
    {
     "ename": "TypeError",
     "evalue": "'NoneType' object is not callable",
     "output_type": "error",
     "traceback": [
      "\u001b[1;31m---------------------------------------------------------------------------\u001b[0m",
      "\u001b[1;31mTypeError\u001b[0m                                 Traceback (most recent call last)",
      "Input \u001b[1;32mIn [76]\u001b[0m, in \u001b[0;36m<cell line: 1>\u001b[1;34m()\u001b[0m\n\u001b[1;32m----> 1\u001b[0m \u001b[43mmore_print\u001b[49m\u001b[43m(\u001b[49m\u001b[43mtest_print\u001b[49m\u001b[43m(\u001b[49m\u001b[43mstring\u001b[49m\u001b[38;5;241;43m=\u001b[39;49m\u001b[38;5;124;43m'\u001b[39;49m\u001b[38;5;124;43mbing\u001b[39;49m\u001b[38;5;124;43m'\u001b[39;49m\u001b[43m)\u001b[49m\u001b[43m)\u001b[49m\n",
      "Input \u001b[1;32mIn [72]\u001b[0m, in \u001b[0;36mmore_print\u001b[1;34m(func)\u001b[0m\n\u001b[0;32m      1\u001b[0m \u001b[38;5;28;01mdef\u001b[39;00m \u001b[38;5;21mmore_print\u001b[39m(func):\n\u001b[1;32m----> 2\u001b[0m     \u001b[38;5;28;01mreturn\u001b[39;00m(\u001b[43mfunc\u001b[49m\u001b[43m(\u001b[49m\u001b[43mrepeat\u001b[49m\u001b[38;5;241;43m=\u001b[39;49m\u001b[38;5;241;43m5\u001b[39;49m\u001b[43m)\u001b[49m)\n",
      "\u001b[1;31mTypeError\u001b[0m: 'NoneType' object is not callable"
     ]
    }
   ],
   "source": [
    "more_print(test_print(string='bing'))"
   ]
  },
  {
   "cell_type": "code",
   "execution_count": null,
   "id": "2f1e5e7e-8d41-470e-8e14-9c6d9f0bd50c",
   "metadata": {},
   "outputs": [
    {
     "ename": "TypeError",
     "evalue": "unsupported operand type(s) for *: 'dict' and 'int'",
     "output_type": "error",
     "traceback": [
      "\u001b[1;31m---------------------------------------------------------------------------\u001b[0m",
      "\u001b[1;31mTypeError\u001b[0m                                 Traceback (most recent call last)",
      "Input \u001b[1;32mIn [68]\u001b[0m, in \u001b[0;36m<cell line: 5>\u001b[1;34m()\u001b[0m\n\u001b[0;32m      3\u001b[0m     \u001b[38;5;28;01mfor\u001b[39;00m func \u001b[38;5;129;01min\u001b[39;00m f_list:\n\u001b[0;32m      4\u001b[0m         func(kwargs)\n\u001b[1;32m----> 5\u001b[0m \u001b[43mtest_printer\u001b[49m\u001b[43m(\u001b[49m\u001b[43m)\u001b[49m\n",
      "Input \u001b[1;32mIn [68]\u001b[0m, in \u001b[0;36mtest_printer\u001b[1;34m(f_list, **kwargs)\u001b[0m\n\u001b[0;32m      2\u001b[0m \u001b[38;5;28;01mdef\u001b[39;00m \u001b[38;5;21mtest_printer\u001b[39m(f_list\u001b[38;5;241m=\u001b[39mf_list, \u001b[38;5;241m*\u001b[39m\u001b[38;5;241m*\u001b[39mkwargs):\n\u001b[0;32m      3\u001b[0m     \u001b[38;5;28;01mfor\u001b[39;00m func \u001b[38;5;129;01min\u001b[39;00m f_list:\n\u001b[1;32m----> 4\u001b[0m         \u001b[43mfunc\u001b[49m\u001b[43m(\u001b[49m\u001b[43mkwargs\u001b[49m\u001b[43m)\u001b[49m\n",
      "Input \u001b[1;32mIn [57]\u001b[0m, in \u001b[0;36mtest_print\u001b[1;34m(string, repeat)\u001b[0m\n\u001b[0;32m      1\u001b[0m \u001b[38;5;28;01mdef\u001b[39;00m \u001b[38;5;21mtest_print\u001b[39m(string\u001b[38;5;241m=\u001b[39m\u001b[38;5;124m'\u001b[39m\u001b[38;5;124mhello\u001b[39m\u001b[38;5;124m'\u001b[39m, repeat \u001b[38;5;241m=\u001b[39m \u001b[38;5;241m1\u001b[39m):\n\u001b[1;32m----> 2\u001b[0m     \u001b[38;5;28;01mreturn\u001b[39;00m \u001b[38;5;28mprint\u001b[39m(\u001b[43mstring\u001b[49m\u001b[43m \u001b[49m\u001b[38;5;241;43m*\u001b[39;49m\u001b[43m \u001b[49m\u001b[43mrepeat\u001b[49m)\n",
      "\u001b[1;31mTypeError\u001b[0m: unsupported operand type(s) for *: 'dict' and 'int'"
     ]
    }
   ],
   "source": [
    "f_list = [test_print,test_print,test_print]\n",
    "def test_printer(f_list=f_list, **kwargs):\n",
    "    for func in f_list:\n",
    "        func(kwargs)\n",
    "test_printer()"
   ]
  },
  {
   "cell_type": "code",
   "execution_count": null,
   "id": "c3f9c0e3-e798-4dc1-9b9d-93e0ffa9a47e",
   "metadata": {},
   "outputs": [],
   "source": []
  }
 ],
 "metadata": {
  "kernelspec": {
   "display_name": "Python 3 (ipykernel)",
   "language": "python",
   "name": "python3"
  }
 },
 "nbformat": 4,
 "nbformat_minor": 5
}
