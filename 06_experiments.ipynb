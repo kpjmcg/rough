{
 "cells": [
  {
   "cell_type": "raw",
   "id": "a1ecbd6c-20a4-48db-ac17-9bf21e9f5b16",
   "metadata": {},
   "source": [
    "---\n",
    "description: Contains experiments and explorations of different features \n",
    "title: SMAT Tests\n",
    "---\n"
   ]
  },
  {
   "cell_type": "code",
   "execution_count": null,
   "id": "a53b5814-7e9e-4535-937b-78c86992e759",
   "metadata": {},
   "outputs": [],
   "source": [
    "%load_ext autoreload\n",
    "%autoreload 2"
   ]
  },
  {
   "cell_type": "code",
   "execution_count": null,
   "id": "2ba84db6-75eb-4f9b-8386-204fe1da2327",
   "metadata": {},
   "outputs": [],
   "source": [
    "#| default_exp experiments "
   ]
  },
  {
   "cell_type": "code",
   "execution_count": null,
   "id": "1e9ce432-c6e8-407d-887e-e0b37480f602",
   "metadata": {},
   "outputs": [],
   "source": [
    "#| hide\n",
    "#for tests\n",
    "#The first datapoint in the reference files\n",
    "#is the x axis resolution\n",
    "#cor2pgau = smooth_image(np.loadtxt('test_data/cor2pgau.txt')[1:],cutoff=1)\n",
    "#cor2pgau[:5]"
   ]
  },
  {
   "cell_type": "code",
   "execution_count": null,
   "id": "acc47da7-847b-40fa-a29d-bf8392ebcb03",
   "metadata": {},
   "outputs": [],
   "source": [
    "#skew(cor2pgau)"
   ]
  },
  {
   "cell_type": "code",
   "execution_count": null,
   "id": "63e35b41-124c-4695-a356-d7c7fd4d2b4c",
   "metadata": {},
   "outputs": [],
   "source": [
    "#plt.plot(cor2pgau[:100])"
   ]
  },
  {
   "cell_type": "markdown",
   "id": "09ffdd8a-8578-4ed7-a474-b862231ab290",
   "metadata": {},
   "source": [
    "## Working on using a natural cubic spline interpolation \n"
   ]
  },
  {
   "cell_type": "markdown",
   "id": "a9aac1e8-a5a3-42ee-a260-ce96124b29cb",
   "metadata": {},
   "source": [
    "cortest = cor2pgau\n",
    "xvals = np.arange(0,len(cortest))\n",
    "corspline = CubicSpline(xvals,cortest)\n",
    "plt.plot(xvals,cortest,'o')\n",
    "plt.plot(xvals,corspline(xvals))\n",
    "plt.plot(np.arange(0,len(cortest),0.01),np.abs(corspline(np.arange(0,len(cortest),0.01))))"
   ]
  },
  {
   "cell_type": "markdown",
   "id": "59cf78d3-1966-476a-913d-b23507bb94e4",
   "metadata": {},
   "source": [
    "corvals = corspline(np.arange(0,len(cortest),0.1))\n",
    "100*(1 - ((np.amax(corvals) - np.amin(corvals))/2.3547816195993403))\n",
    "#2.3547816195993403 Ref"
   ]
  },
  {
   "cell_type": "markdown",
   "id": "f515b168-0503-42e1-bbec-104514bfda4f",
   "metadata": {},
   "source": [
    "np.amin(corspline(np.arange(0,100,0.01)))"
   ]
  },
  {
   "cell_type": "markdown",
   "id": "0bba6670-125c-43a8-b01b-6048bf1a77a4",
   "metadata": {},
   "source": [
    "np.arange(0, len(cor2pgau),1)"
   ]
  },
  {
   "cell_type": "markdown",
   "id": "a5942412-0c5c-4ca9-b957-dae396294293",
   "metadata": {},
   "source": [
    "from scipy.integrate import quad\n",
    "\n",
    "x = np.arange(0, len(cor2pgau)-500,1)\n",
    "y = cor2pgau[250:-250]\n",
    "\n",
    "# Fit a cubic spline\n",
    "cs = CubicSpline(x, y)\n",
    "amhs = []\n",
    "\n",
    "for i in range(0,4750,250):\n",
    "    interval_start = i\n",
    "    interval_end = interval_start + 250\n",
    "\n",
    "    # Define the function for integration (absolute value of the spline)\n",
    "    def function_to_integrate(x):\n",
    "        return np.abs(cs(x))\n",
    "\n",
    "    # Calculate the arithmetic mean height using quad integration\n",
    "    amh, _ = quad(function_to_integrate, interval_start, interval_end,limit=100)\n",
    "\n",
    "    # Divide by the length of the interval\n",
    "    interval_length = interval_end - interval_start\n",
    "    amh /= interval_length\n",
    "    amhs.append(amh)\n",
    "\n",
    "print(\"Arithmetic Mean Height:\", np.mean(amhs))\n",
    "print(\"Reference Mean Height: \", 0.14539179526852036)"
   ]
  },
  {
   "cell_type": "markdown",
   "id": "9ba08772-b8d1-4698-8c3a-77c0f3385909",
   "metadata": {},
   "source": [
    "x = np.arange(0, len(cor2pgau)-500,1)\n",
    "y = cor2pgau[250:-250]\n",
    "\n",
    "# Fit a cubic spline\n",
    "cs = CubicSpline(x, y)\n",
    "amhs = []\n",
    "\n",
    "for i in range(0,4750,250):\n",
    "    interval_start = i\n",
    "    interval_end = interval_start + 250\n",
    "\n",
    "    # Define the function for integration (absolute value of the spline)\n",
    "    def function_to_integrate(x):\n",
    "        return np.square(cs(x))\n",
    "\n",
    "    # Calculate the arithmetic mean height using quad integration\n",
    "    amh, _ = quad(function_to_integrate, interval_start, interval_end,limit=75)\n",
    "\n",
    "    # Divide by the length of the interval\n",
    "    interval_length = interval_end - interval_start\n",
    "    amh /= interval_length\n",
    "    amhs.append(np.sqrt(amh))\n",
    "\n",
    "print(\"Arithmetic Rms:\", np.mean(amhs))\n",
    "print(\"Reference Rms: \", 0.195597300779425)\n",
    "print('% Difference', (1-(np.mean(amhs)/0.195597300779425))*100)"
   ]
  },
  {
   "cell_type": "markdown",
   "id": "5c8de55a-3bb7-481f-b8cd-93d095e2c2f3",
   "metadata": {},
   "source": [
    "plt.plot(x,cs(x))\n",
    "plt.plot(x,y)"
   ]
  },
  {
   "cell_type": "markdown",
   "id": "171f3eeb-fc1b-4656-8b04-54c78db6f3e5",
   "metadata": {},
   "source": [
    "cs(x).shape"
   ]
  },
  {
   "cell_type": "markdown",
   "id": "33e5542e-6123-4fe1-b86e-0ce95f715365",
   "metadata": {},
   "source": [
    "x = np.arange(0, len(cor2pgau)-500,.01)\n",
    "skew(cs(x))"
   ]
  },
  {
   "cell_type": "code",
   "execution_count": null,
   "id": "b8440706-4499-434f-abc7-7a15b61dd4d2",
   "metadata": {},
   "outputs": [],
   "source": [
    "#|hide\n",
    "from nbdev.showdoc import *"
   ]
  }
 ],
 "metadata": {
  "kernelspec": {
   "display_name": "python3",
   "language": "python",
   "name": "python3"
  }
 },
 "nbformat": 4,
 "nbformat_minor": 5
}
