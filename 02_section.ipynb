{
 "cells": [
  {
   "cell_type": "code",
   "execution_count": null,
   "id": "986f6c3c-7ce2-4820-b61b-97b6f97df867",
   "metadata": {},
   "outputs": [],
   "source": [
    "%load_ext autoreload\n",
    "%autoreload 2"
   ]
  },
  {
   "cell_type": "code",
   "execution_count": null,
   "id": "d802ef2f-8b54-4fb1-b75c-01f80584dd46",
   "metadata": {},
   "outputs": [],
   "source": [
    "#| default_exp section"
   ]
  },
  {
   "cell_type": "markdown",
   "id": "050153ff-ca69-45bd-8800-6ff4090a7cae",
   "metadata": {},
   "source": [
    "# Section\n",
    "\n",
    "> Set of functions for calculating 2 Dimensional surface parameters across sections"
   ]
  },
  {
   "cell_type": "code",
   "execution_count": null,
   "id": "d6b416a8-2746-4808-a645-ae6194bf3875",
   "metadata": {},
   "outputs": [],
   "source": [
    "#| export\n",
    "from rough.data import *\n",
    "from rough.profile import *\n",
    "\n",
    "import numpy as np\n",
    "from matplotlib import pyplot as plt\n",
    "from scipy.stats import skew, kurtosis\n",
    "from scipy.signal import find_peaks"
   ]
  },
  {
   "cell_type": "markdown",
   "id": "f54afdae-6942-42be-8d7e-217e0d715353",
   "metadata": {},
   "source": [
    "To demonstrate, we're going to build on data we processed in `data`"
   ]
  },
  {
   "cell_type": "code",
   "execution_count": null,
   "id": "f8a7801c-397a-4bd0-864b-e999dc843a38",
   "metadata": {},
   "outputs": [],
   "source": [
    "image    = np.loadtxt('example.txt')\n",
    "sections = np.load('example_sections.npy')"
   ]
  },
  {
   "cell_type": "code",
   "execution_count": null,
   "id": "84ebe564-99f1-4681-b5a0-fd2d8c8e634a",
   "metadata": {},
   "outputs": [],
   "source": [
    "#| export\n",
    "def Sa(im, #Numpy array or arraylike. typically (m,n) for 1 array or (k,m,n) for k (m,n) stacked arrays\n",
    "        norm = True,\n",
    "        axis = None,\n",
    "        sections = False, #If true, calculates the Sa of the stack of images, (i.e. sets axis = (1,2))\n",
    "        **kwargs\n",
    "      ):\n",
    "    '''\n",
    "    Calculates the mean absolute difference from the mean plane. Equivalent to Ra(array, axis = None)\n",
    "    '''\n",
    "    if sections:\n",
    "        axis = (1,2)\n",
    "    if norm:\n",
    "        im = im - np.mean(im, axis = axis, keepdims=True)\n",
    "        \n",
    "    return np.mean(np.absolute(im), axis = axis)"
   ]
  },
  {
   "cell_type": "code",
   "execution_count": null,
   "id": "6016a8c5-572b-47be-b6a4-cb831db4e128",
   "metadata": {},
   "outputs": [
    {
     "data": {
      "text/plain": [
       "(0.00047688714130073284,\n",
       " 0.00047688714130073284,\n",
       " array([0.00028241, 0.00042414, 0.00020014]),\n",
       " array([0.00028241, 0.00042414, 0.00020014]))"
      ]
     },
     "execution_count": null,
     "metadata": {},
     "output_type": "execute_result"
    }
   ],
   "source": [
    "(Sa(image),\n",
    " Sa(image,axis = (0,1)),\n",
    " Sa(sections,sections=True)[:3],\n",
    " Sa(sections,axis=(1,2))[:3])"
   ]
  },
  {
   "cell_type": "code",
   "execution_count": null,
   "id": "91700323-9f9e-4226-b564-2666e89caa50",
   "metadata": {},
   "outputs": [],
   "source": [
    "#| export\n",
    "def Sms(im, #Numpy array or arraylike. typically (m,n) for 1 array or (k,m,n) for k (m,n) stacked arrays\n",
    "        norm = True,\n",
    "        axis = None,\n",
    "        sections = False, #If true, calculates the Sms of the stack of images, (i.e. sets axis = (1,2))\n",
    "        **kwargs\n",
    "       ):\n",
    "    '''\n",
    "    Calculates the root mean square difference from the mean plane. Equivalent to Rms(array, axis = None)\n",
    "    '''\n",
    "    if sections:\n",
    "        axis = (1,2)\n",
    "    if norm:\n",
    "        im = im - np.mean(im, axis = axis, keepdims = True)\n",
    "\n",
    "    return np.sqrt(np.mean(np.square(im), axis = axis))"
   ]
  },
  {
   "cell_type": "code",
   "execution_count": null,
   "id": "c2235e27-7147-4fd9-b82b-04d90f4aec4c",
   "metadata": {},
   "outputs": [
    {
     "data": {
      "text/plain": [
       "(0.0006332906519311293,\n",
       " array([0.00032491, 0.00049684, 0.0002654 , 0.00028618, 0.0004129 ]))"
      ]
     },
     "execution_count": null,
     "metadata": {},
     "output_type": "execute_result"
    }
   ],
   "source": [
    "(Sms(image),Sms(sections,sections=True)[:5])"
   ]
  },
  {
   "cell_type": "code",
   "execution_count": null,
   "id": "e291a694-9d9d-44c5-a58b-69b35d8da7c5",
   "metadata": {},
   "outputs": [],
   "source": [
    "#| export\n",
    "def Ssk(im, #Numpy array or arraylike. typically (m,n) for 1 array or (k,m,n) for k (m,n) stacked arrays\n",
    "        norm = True,\n",
    "        axis = None,\n",
    "        sections = False, #If true, calculates the Ssk of the stack of images, (i.e. sets axis = (1,2))\n",
    "        **kwargs\n",
    "       ):\n",
    "    '''\n",
    "    Calculates the Skew of the section. Equivalent to Rsk(im, axis = None) for an (m,n) array\n",
    "    '''\n",
    "    if sections:\n",
    "        axis = (1,2)\n",
    "    if norm:\n",
    "        im = im - np.mean(im, axis = axis, keepdims = True)\n",
    "     \n",
    "    return skew(a = im, axis=axis, **kwargs)\n",
    "        \n",
    "        "
   ]
  },
  {
   "cell_type": "code",
   "execution_count": null,
   "id": "611c541e-519d-4aba-b20e-df97cfc2e102",
   "metadata": {},
   "outputs": [
    {
     "data": {
      "text/plain": [
       "(0.09500122790758757,\n",
       " array([-0.09524635,  0.28831296,  0.70445168, -0.75446586, -0.02569195]))"
      ]
     },
     "execution_count": null,
     "metadata": {},
     "output_type": "execute_result"
    }
   ],
   "source": [
    "(Ssk(image),Ssk(sections, sections = True)[:5])"
   ]
  },
  {
   "cell_type": "code",
   "execution_count": null,
   "id": "f312914e-61e3-4c02-89ff-38acdca97389",
   "metadata": {},
   "outputs": [],
   "source": [
    "#| export\n",
    "def Sku(im, #Numpy array or arraylike. typically (m,n) for 1 array or (k,m,n) for k (m,n) stacked arrays\n",
    "        norm = True,\n",
    "        axis = None,\n",
    "        sections = False, #If true, calculates the Sku of the stack of images, (i.e. sets axis = (1,2))\n",
    "        **kwargs\n",
    "       ):\n",
    "    '''\n",
    "    Calculates the Kurtosis of the section. Equivalent to Rku(im, axis = None) for an (m,n) array\n",
    "    '''\n",
    "    if sections:\n",
    "        axis = (1,2)\n",
    "    if norm:\n",
    "        im = im - np.mean(im, axis = axis, keepdims = True)\n",
    "     \n",
    "    return kurtosis(a = im, axis=axis, **kwargs)"
   ]
  },
  {
   "cell_type": "code",
   "execution_count": null,
   "id": "88b19a89-ba33-4240-acea-f381d15abedb",
   "metadata": {},
   "outputs": [
    {
     "data": {
      "text/plain": [
       "(1.705202900719974,\n",
       " array([-1.06809856, -0.88850324,  1.07656068, -0.61641668, -0.91538318]))"
      ]
     },
     "execution_count": null,
     "metadata": {},
     "output_type": "execute_result"
    }
   ],
   "source": [
    "(Sku(image),Sku(sections,sections=True)[:5])"
   ]
  },
  {
   "cell_type": "code",
   "execution_count": null,
   "id": "24b4f47b-9b77-43cc-9048-1afe151c9199",
   "metadata": {},
   "outputs": [
    {
     "data": {
      "text/plain": [
       "array([[[1., 1., 1., 1.],\n",
       "        [1., 1., 1., 1.],\n",
       "        [1., 1., 1., 1.],\n",
       "        [1., 1., 1., 1.]],\n",
       "\n",
       "       [[2., 2., 2., 2.],\n",
       "        [2., 2., 2., 2.],\n",
       "        [2., 2., 2., 2.],\n",
       "        [2., 2., 2., 2.]],\n",
       "\n",
       "       [[3., 3., 3., 3.],\n",
       "        [3., 3., 3., 3.],\n",
       "        [3., 3., 3., 3.],\n",
       "        [3., 3., 3., 3.]],\n",
       "\n",
       "       [[2., 2., 2., 2.],\n",
       "        [2., 2., 2., 2.],\n",
       "        [2., 2., 2., 2.],\n",
       "        [2., 2., 2., 2.]]])"
      ]
     },
     "execution_count": null,
     "metadata": {},
     "output_type": "execute_result"
    }
   ],
   "source": [
    "array_1 = np.ones((4,4))\n",
    "array_2 = np.ones((4,4)) * 2\n",
    "array_3 = np.ones((4,4)) * 3\n",
    "stacked = np.array([array_1, array_2, array_3,array_2])\n",
    "stacked"
   ]
  },
  {
   "cell_type": "code",
   "execution_count": null,
   "id": "95aa286f-7df4-46cf-a389-15f7c81e0bbf",
   "metadata": {},
   "outputs": [
    {
     "data": {
      "text/plain": [
       "array([[[0., 0., 0., 0.],\n",
       "        [0., 0., 0., 0.],\n",
       "        [0., 0., 0., 0.],\n",
       "        [0., 0., 0., 0.]],\n",
       "\n",
       "       [[0., 0., 0., 0.],\n",
       "        [0., 0., 0., 0.],\n",
       "        [0., 0., 0., 0.],\n",
       "        [0., 0., 0., 0.]],\n",
       "\n",
       "       [[0., 0., 0., 0.],\n",
       "        [0., 0., 0., 0.],\n",
       "        [0., 0., 0., 0.],\n",
       "        [0., 0., 0., 0.]],\n",
       "\n",
       "       [[0., 0., 0., 0.],\n",
       "        [0., 0., 0., 0.],\n",
       "        [0., 0., 0., 0.],\n",
       "        [0., 0., 0., 0.]]])"
      ]
     },
     "execution_count": null,
     "metadata": {},
     "output_type": "execute_result"
    }
   ],
   "source": [
    "norm_stacked = stacked - np.mean(stacked,axis = (1,2), keepdims=True)\n",
    "norm_stacked"
   ]
  },
  {
   "cell_type": "code",
   "execution_count": null,
   "id": "b02316ac-8ae1-45b7-abb5-bcb8029e47a2",
   "metadata": {},
   "outputs": [
    {
     "data": {
      "text/plain": [
       "array([1., 2., 3., 2.])"
      ]
     },
     "execution_count": null,
     "metadata": {},
     "output_type": "execute_result"
    }
   ],
   "source": [
    "np.mean(stacked, axis=(1,2))"
   ]
  },
  {
   "cell_type": "code",
   "execution_count": null,
   "id": "61122d21-b76c-4208-8a0d-eb333ffdcd96",
   "metadata": {},
   "outputs": [],
   "source": [
    "#| hide\n",
    "from nbdev import nbdev_export\n",
    "nbdev_export()"
   ]
  }
 ],
 "metadata": {
  "kernelspec": {
   "display_name": "Python 3 (ipykernel)",
   "language": "python",
   "name": "python3"
  }
 },
 "nbformat": 4,
 "nbformat_minor": 5
}
