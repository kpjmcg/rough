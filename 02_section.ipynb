{
 "cells": [
  {
   "cell_type": "code",
   "execution_count": null,
   "id": "986f6c3c-7ce2-4820-b61b-97b6f97df867",
   "metadata": {},
   "outputs": [],
   "source": [
    "%load_ext autoreload\n",
    "%autoreload 2"
   ]
  },
  {
   "cell_type": "code",
   "execution_count": null,
   "id": "d802ef2f-8b54-4fb1-b75c-01f80584dd46",
   "metadata": {},
   "outputs": [],
   "source": [
    "#| default_exp section"
   ]
  },
  {
   "cell_type": "markdown",
   "id": "050153ff-ca69-45bd-8800-6ff4090a7cae",
   "metadata": {},
   "source": [
    "# Section\n",
    "\n",
    "> Set of functions for calculating roughness parameters across sections"
   ]
  },
  {
   "cell_type": "code",
   "execution_count": null,
   "id": "d6b416a8-2746-4808-a645-ae6194bf3875",
   "metadata": {},
   "outputs": [],
   "source": [
    "#| export\n",
    "from rough.data import *\n",
    "from rough.profile import *"
   ]
  },
  {
   "cell_type": "code",
   "execution_count": null,
   "id": "84ebe564-99f1-4681-b5a0-fd2d8c8e634a",
   "metadata": {},
   "outputs": [],
   "source": [
    "#| export\n",
    "def Sa(im, #Numpy array or arraylike\n",
    "       norm = True #Normalize the section by subtracting the mean\n",
    "      ):\n",
    "    '''\n",
    "    Calculates the mean absolute difference from the mean plane. Equivalent to Ra(array, axis = None)\n",
    "    '''\n",
    "    if norm:\n",
    "        im = im - np.mean(im, axis = None)\n",
    "    return np.mean(np.absolute(im), axis = None)"
   ]
  },
  {
   "cell_type": "code",
   "execution_count": null,
   "id": "91700323-9f9e-4226-b564-2666e89caa50",
   "metadata": {},
   "outputs": [],
   "source": []
  },
  {
   "cell_type": "code",
   "execution_count": null,
   "id": "e291a694-9d9d-44c5-a58b-69b35d8da7c5",
   "metadata": {},
   "outputs": [],
   "source": []
  },
  {
   "cell_type": "code",
   "execution_count": null,
   "id": "61122d21-b76c-4208-8a0d-eb333ffdcd96",
   "metadata": {},
   "outputs": [],
   "source": [
    "#| hide\n",
    "from nbdev import nbdev_export\n",
    "nbdev_export()"
   ]
  }
 ],
 "metadata": {
  "kernelspec": {
   "display_name": "Python 3 (ipykernel)",
   "language": "python",
   "name": "python3"
  }
 },
 "nbformat": 4,
 "nbformat_minor": 5
}
