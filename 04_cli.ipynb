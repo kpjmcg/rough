{
 "cells": [
  {
   "cell_type": "code",
   "execution_count": null,
   "id": "8756be8a-a21d-4ec1-b935-4c9af1d791ab",
   "metadata": {},
   "outputs": [],
   "source": [
    "%load_ext autoreload\n",
    "%autoreload 2"
   ]
  },
  {
   "cell_type": "code",
   "execution_count": null,
   "id": "569cc40e-8764-482a-9858-efd4d3d9c91b",
   "metadata": {},
   "outputs": [],
   "source": [
    "#| default_exp cli"
   ]
  },
  {
   "cell_type": "markdown",
   "id": "94ffcd04-1dfd-433e-b1b7-b8256bc059e6",
   "metadata": {},
   "source": [
    "# CLI \n",
    "> Contains functions for calling Rough from the command line"
   ]
  },
  {
   "cell_type": "code",
   "execution_count": null,
   "id": "1e4649b2-1fab-4e33-a847-1a50d18e660b",
   "metadata": {},
   "outputs": [],
   "source": [
    "#| export\n",
    "from fastcore.script import *\n",
    "import numpy as np\n",
    "from pathlib import Path\n",
    "from inspect import getmembers, isfunction\n",
    "\n",
    "from rough.data import *\n",
    "from rough.profile import *\n",
    "from rough.section import *\n",
    "\n",
    "import rough.profile as profile_mod\n",
    "import rough.section as section_mod"
   ]
  },
  {
   "cell_type": "code",
   "execution_count": null,
   "id": "fe820800-2a3b-419d-a5b5-1705a965c0ea",
   "metadata": {},
   "outputs": [
    {
     "data": {
      "text/plain": [
       "(501, 501)"
      ]
     },
     "execution_count": null,
     "metadata": {},
     "output_type": "execute_result"
    }
   ],
   "source": [
    "array = np.loadtxt('example.txt')\n",
    "array.shape"
   ]
  },
  {
   "cell_type": "code",
   "execution_count": null,
   "id": "b6100a7b-74a6-4a7c-8201-6706ae941cb8",
   "metadata": {},
   "outputs": [],
   "source": [
    "#| export\n",
    "def compute_parameters(array, #Input array to be calculate paramers on\n",
    "                       list_of_parameters:list, #List of parameters to calculate as strings\n",
    "                       valid_module  = None, #module to generate functions from, used to check user input, see rough.cli:rough\n",
    "                       **kwargs #Keyword arguments to modify behavior of parameter calls, usually to define Sections = True\n",
    "                      ):\n",
    "    \n",
    "    results = []\n",
    "    \n",
    "    #The following generates a {'func':func} dict from given list of parameters if the parameter is available in the module\n",
    "    valid_dict = {k: v for k, v in vars(valid_module).items() if callable(v) and k in valid_module.__all__}\n",
    "    for parameter in list_of_parameters:\n",
    "        result = valid_dict[parameter](array, kwargs)\n",
    "        results.append(result)\n",
    "    return results"
   ]
  },
  {
   "cell_type": "code",
   "execution_count": null,
   "id": "e22e174e-a7ec-4114-8cad-77d4722fe80c",
   "metadata": {},
   "outputs": [],
   "source": [
    "#| export\n",
    "@call_parse\n",
    "def rough(\n",
    "    fname:str   = None,   #File name, path or directory with data files to be read\n",
    "    ext:str     = '.txt', #Extension for the  files .txt or .csv\n",
    "    \n",
    "    result:str     = None,     #Directory to write results to, if None, writes to 'results'\n",
    "    result_how:str = 'concat', #How to save the results, 'concat' concatenates all respective types of results \n",
    "                               #(i.e. profile,section,rotational,subsection) into one dataframe file.\n",
    "                               #'split' produces respective result files for each input file. Use split for large amounts of data.\n",
    "    \n",
    "    level:bool  = True, #Perform plane levelling \n",
    "    form:bool   = True, #Remove form by polynomial subtraction\n",
    "    deg:int     = 3,    #Degree of polynomial to remove\n",
    "    smooth:bool = True, #Smooth the array by applying a gaussian\n",
    "    sigma:int   = 1,    #Sigma for gaussian to be applied\n",
    "    \n",
    "    gen_rot:bool= True, #Generate rotational profiles and apply parameter calculation to them\n",
    "    \n",
    "    gen_section:bool= True, #Generate sub-sections of the surface\n",
    "    sec_how:str = 'square', #Type of section to generate, currently only supports 'square'\n",
    "    sec_num:int = 100,      #Number of sections to generate\n",
    "    \n",
    "    profile:bool = True, #Calculate profile parameters\n",
    "    section:bool = True, #Calculate section parameters\n",
    "    \n",
    "    params1D:list = profile_mod.__all__, # list of 1D parameters to calculate,\n",
    "    params2D:list = section_mod.__all__, #list of 2D parameters to calculate, calculates for both the sections and the whole\n",
    "):\n",
    "    \n",
    "    delims = {'.txt': None,\n",
    "              '.csv': ','}\n",
    "    \n",
    "    path       = Path().cwd() if fname == None else Path(fname)\n",
    "    \n",
    "    #Figuring out where the results go\n",
    "    if   path.is_dir():\n",
    "        result_dir = path / 'results' if result == None else Path(result)\n",
    "    elif path.is_file():\n",
    "        result_dir = path.parent / 'results' if result == None else Path(result) \n",
    "    \n",
    "\n",
    "    if not path.exists(): \n",
    "        raise FileNotFoundError('Could not find file/directory check fname')\n",
    "    if not result_dir.exists(): \n",
    "        result_dir.mkdir(parents=True) #Make the results directory if it doesn't exist\n",
    "        \n",
    "    glob_pattern    = '*' + ext\n",
    "    file_paths = [path] if path.is_file() else path.glob(glob_pattern)\n",
    "    \n",
    "    for file_path in file_paths:\n",
    "        array = np.loadtxt(file_path,delimiter=delims[file_path.suffix])\n",
    "        print(file_path)\n",
    "        \n",
    "        if level:\n",
    "            array = plane_level(array)\n",
    "            print('Got to level')\n",
    "        if form:\n",
    "            array = remove_form(array)\n",
    "            print('Got to form')\n",
    "        if smooth:\n",
    "            array = smooth_image(array,sigma=sigma)\n",
    "            print('got to smooth')\n",
    "        \n",
    "        if profile: #Iterate through the profile parameters\n",
    "            profile_results = compute_parameters(array, params1D, profile_mod)\n",
    "            if gen_rot:\n",
    "                profiles = gen_rot_prof(array)\n",
    "                rot_profile_results = compute_parameters(profiles, params1D, profile_mod)\n",
    "        \n",
    "        if section: #Iterate through profile parameters\n",
    "            section_results = compute_parameters(array, params2D, section_mod)\n",
    "            \n",
    "            if gen_section:\n",
    "                sections         = gen_sections(array, how=sec_how, number = sec_num)\n",
    "                sections_results = compute_parameters(sections, params2D, section_mod, sections = True)\n",
    "\n",
    "                result_file_name = file_path.stem + '_section' + file_path.suffix #TODO add in .csv and other filer support\n",
    "                result_path = result_dir / result_file_name \n",
    "                print(result_path)\n",
    "            #np.savetxt(result_path, section_results, delim =delim) #Save the section results"
   ]
  },
  {
   "cell_type": "code",
   "execution_count": null,
   "id": "b3d39051-658f-4635-841d-9a26dbc9a7e5",
   "metadata": {},
   "outputs": [
    {
     "data": {
      "text/plain": [
       "False"
      ]
     },
     "execution_count": null,
     "metadata": {},
     "output_type": "execute_result"
    }
   ],
   "source": [
    "path = Path()/'nonexistent_file.txt'\n",
    "pattern = '*.txt'\n",
    "path.exists()"
   ]
  },
  {
   "cell_type": "code",
   "execution_count": null,
   "id": "a1f6e737-ae5c-4d34-b992-b5650faa4d2b",
   "metadata": {},
   "outputs": [
    {
     "data": {
      "text/plain": [
       "Path('E:/Archaeology/rough/rough')"
      ]
     },
     "execution_count": null,
     "metadata": {},
     "output_type": "execute_result"
    }
   ],
   "source": [
    "path = Path.cwd()\n",
    "path"
   ]
  },
  {
   "cell_type": "code",
   "execution_count": null,
   "id": "5f8c995a-8042-4357-bd01-8be947f3f29a",
   "metadata": {},
   "outputs": [],
   "source": [
    "#| hide\n",
    "from nbdev import nbdev_export\n",
    "nbdev_export()"
   ]
  }
 ],
 "metadata": {
  "kernelspec": {
   "display_name": "Python 3 (ipykernel)",
   "language": "python",
   "name": "python3"
  }
 },
 "nbformat": 4,
 "nbformat_minor": 5
}
