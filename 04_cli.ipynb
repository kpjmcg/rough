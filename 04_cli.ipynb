{
 "cells": [
  {
   "cell_type": "code",
   "execution_count": null,
   "id": "8756be8a-a21d-4ec1-b935-4c9af1d791ab",
   "metadata": {},
   "outputs": [],
   "source": [
    "%load_ext autoreload\n",
    "%autoreload 2"
   ]
  },
  {
   "cell_type": "code",
   "execution_count": null,
   "id": "569cc40e-8764-482a-9858-efd4d3d9c91b",
   "metadata": {},
   "outputs": [],
   "source": [
    "#| default_exp cli"
   ]
  },
  {
   "cell_type": "markdown",
   "id": "94ffcd04-1dfd-433e-b1b7-b8256bc059e6",
   "metadata": {},
   "source": [
    "# CLI \n",
    "> Contains functions for calling Rough from the command line"
   ]
  },
  {
   "cell_type": "code",
   "execution_count": null,
   "id": "1e4649b2-1fab-4e33-a847-1a50d18e660b",
   "metadata": {},
   "outputs": [],
   "source": [
    "from fastcore.script import *\n",
    "import numpy as np\n",
    "\n",
    "from rough.data import *\n",
    "from rough.profile import *\n",
    "from rough.section import *"
   ]
  },
  {
   "cell_type": "code",
   "execution_count": null,
   "id": "e22e174e-a7ec-4114-8cad-77d4722fe80c",
   "metadata": {},
   "outputs": [],
   "source": [
    "# | export\n",
    "@call_parse\n",
    "def rough(\n",
    "    fname:str   = None, # File name or glob to be read\n",
    "    delim:str   = '', #Delimeter for the file '' for txt, ',' for .csv etc.\n",
    "    result:str  = None, #Folder to write results to, if not set, writes to 'results' folder\n",
    "    \n",
    "    level:bool  = True, #Perform plane levelling \n",
    "    form:bool   = True, #Remove form by polynomial subtraction\n",
    "    deg:int     = 3, #Degree of polynomial to remove\n",
    "    smooth:bool = True, #Smooth the array by applying a gaussian\n",
    "    sigma:int   = 1, #Sigma for gaussian to be applied\n",
    "    \n",
    "    gen_rot:bool= True, #Generate rotational profiles and apply parameter calculation to them\n",
    "    \n",
    "    section:bool= True, #Generate sections\n",
    "    sec_how:str = 'square', #Type of section to generate, currently only supports 'square'\n",
    "    sec_num:int = 100, #Number of sections to generate\n",
    "    \n",
    "    params1D:list = [Ra,Rms,Rku,Rsk], # list of 1D parameters to calculate,\n",
    "    params2D:list = [Sa,Sms,Sku,Ssk] #list of 2D parameters to calculate\n",
    "):\n",
    "    for file in fname:\n",
    "        array = np.loadtxt(fname,delimeter=delim)\n",
    "        \n",
    "        if level:\n",
    "            array = plane_level(array)\n",
    "        if form:\n",
    "            array = remove_form(array)\n",
    "        if smooth:\n",
    "            array = smooth_image(array,sigma=sigma)\n",
    "        if gen_rot:\n",
    "            profiles = gen_rot_profs(array)\n",
    "            #Helper function that computes parameters\n",
    "        if section:\n",
    "            sections = gen_sections(array, how=sec_how, number = sec_num)\n",
    "            #Helper function that computes parameters\n",
    "            section_results = None\n",
    "            result_f = result + '/' + file + '_section' + ('.csv' if delim == ',' else '.txt')\n",
    "            np.savetxt(result_f, section_results, delim =delim) #Save the section results\n",
    "        \n",
    "        \n",
    "        \n",
    "        \n"
   ]
  },
  {
   "cell_type": "code",
   "execution_count": null,
   "id": "405eea35-e9cc-4694-ac98-1bfb9f6694a4",
   "metadata": {},
   "outputs": [
    {
     "name": "stdout",
     "output_type": "stream",
     "text": [
      "_section.txt\n"
     ]
    }
   ],
   "source": [
    "delim = ''\n",
    "print('_section' + ('.csv' if delim == ',' else '.txt'))"
   ]
  },
  {
   "cell_type": "code",
   "execution_count": null,
   "id": "216eb1e4-0993-45cf-b378-7b9e7891abc6",
   "metadata": {},
   "outputs": [
    {
     "data": {
      "text/plain": [
       "'.txt'"
      ]
     },
     "execution_count": null,
     "metadata": {},
     "output_type": "execute_result"
    }
   ],
   "source": [
    "'.csv' if delim == ',' else '.txt'"
   ]
  },
  {
   "cell_type": "code",
   "execution_count": null,
   "id": "32140547-e7be-4ec2-902a-11e8f24fa572",
   "metadata": {},
   "outputs": [
    {
     "name": "stdout",
     "output_type": "stream",
     "text": [
      "bingo\n",
      "bingo\n"
     ]
    }
   ],
   "source": [
    "string = 'bingo'\n",
    "print_list = [print, print]\n",
    "for func in print_list:\n",
    "    func(string)"
   ]
  },
  {
   "cell_type": "code",
   "execution_count": null,
   "id": "2410c160-e556-4392-850c-15abd2b277c9",
   "metadata": {},
   "outputs": [
    {
     "ename": "NameError",
     "evalue": "name 'main' is not defined",
     "output_type": "error",
     "traceback": [
      "\u001b[1;31m---------------------------------------------------------------------------\u001b[0m",
      "\u001b[1;31mNameError\u001b[0m                                 Traceback (most recent call last)",
      "Input \u001b[1;32mIn [8]\u001b[0m, in \u001b[0;36m<cell line: 1>\u001b[1;34m()\u001b[0m\n\u001b[1;32m----> 1\u001b[0m \u001b[43mmain\u001b[49m(\u001b[38;5;124m'\u001b[39m\u001b[38;5;124mBingo\u001b[39m\u001b[38;5;124m'\u001b[39m,upper\u001b[38;5;241m=\u001b[39m\u001b[38;5;28;01mFalse\u001b[39;00m)\n",
      "\u001b[1;31mNameError\u001b[0m: name 'main' is not defined"
     ]
    }
   ],
   "source": [
    "main('Bingo',upper=False)"
   ]
  },
  {
   "cell_type": "code",
   "execution_count": null,
   "id": "d5748775-5c6f-441a-8f70-a7e5d2a74c4d",
   "metadata": {},
   "outputs": [],
   "source": []
  },
  {
   "cell_type": "code",
   "execution_count": null,
   "id": "5f8c995a-8042-4357-bd01-8be947f3f29a",
   "metadata": {},
   "outputs": [],
   "source": [
    "#| hide\n",
    "from nbdev import nbdev_export\n",
    "nbdev_export()"
   ]
  }
 ],
 "metadata": {
  "kernelspec": {
   "display_name": "Python 3 (ipykernel)",
   "language": "python",
   "name": "python3"
  }
 },
 "nbformat": 4,
 "nbformat_minor": 5
}
