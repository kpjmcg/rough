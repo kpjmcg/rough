{
 "cells": [
  {
   "cell_type": "code",
   "execution_count": null,
   "id": "8756be8a-a21d-4ec1-b935-4c9af1d791ab",
   "metadata": {},
   "outputs": [],
   "source": [
    "%load_ext autoreload\n",
    "%autoreload 2"
   ]
  },
  {
   "cell_type": "code",
   "execution_count": null,
   "id": "569cc40e-8764-482a-9858-efd4d3d9c91b",
   "metadata": {},
   "outputs": [],
   "source": [
    "#| default_exp cli"
   ]
  },
  {
   "cell_type": "markdown",
   "id": "94ffcd04-1dfd-433e-b1b7-b8256bc059e6",
   "metadata": {},
   "source": [
    "# CLI \n",
    "> Contains functions for calling Rough from the command line"
   ]
  },
  {
   "cell_type": "code",
   "execution_count": null,
   "id": "1e4649b2-1fab-4e33-a847-1a50d18e660b",
   "metadata": {},
   "outputs": [],
   "source": [
    "#| export\n",
    "from fastcore.script import *\n",
    "import numpy as np\n",
    "import pandas as pd\n",
    "from pathlib import Path\n",
    "\n",
    "from rough.data import *\n",
    "from rough.profile import *\n",
    "from rough.areal import *\n",
    "\n",
    "import rough.profile as profile_mod\n",
    "import rough.areal as areal_mod"
   ]
  },
  {
   "cell_type": "code",
   "execution_count": null,
   "id": "fe820800-2a3b-419d-a5b5-1705a965c0ea",
   "metadata": {},
   "outputs": [
    {
     "data": {
      "text/plain": [
       "(501, 501)"
      ]
     },
     "execution_count": null,
     "metadata": {},
     "output_type": "execute_result"
    }
   ],
   "source": [
    "array = np.loadtxt('example.txt')\n",
    "array.shape"
   ]
  },
  {
   "cell_type": "code",
   "execution_count": null,
   "id": "b6100a7b-74a6-4a7c-8201-6706ae941cb8",
   "metadata": {},
   "outputs": [],
   "source": []
  },
  {
   "cell_type": "code",
   "execution_count": null,
   "id": "16daf882-56fa-467e-9dbf-13cf40f59827",
   "metadata": {},
   "outputs": [],
   "source": [
    "#TODO: Fix the list input, need to probably use params and nargs"
   ]
  },
  {
   "cell_type": "code",
   "execution_count": null,
   "id": "e22e174e-a7ec-4114-8cad-77d4722fe80c",
   "metadata": {},
   "outputs": [],
   "source": [
    "#| export\n",
    "@call_parse\n",
    "def rough(\n",
    "    fname:str   = None,   #File name, path or directory with data files to be read\n",
    "    ext:str     = '.txt', #Extension for the  files .txt or .csv\n",
    "    \n",
    "    result:str     = None,     #Directory to write results to, if None, writes to 'results'\n",
    "    result_how:str = 'concat', #How to save the results, 'concat' concatenates all respective types of results (i.e. profile,section,rotational,subsection) into one dataframe file. 'split' produces respective result files for each input file. Use split for large amounts of data.\n",
    "    \n",
    "    level:Param(\"Perform plane levelling\", bool_arg) = True, #Perform plane levelling \n",
    "    form:Param(\"Remove form by polynomial subtraction\", bool_arg) = True, #Remove form by polynomial subtraction\n",
    "    deg:int = 3, #Degree of polynomial to remove\n",
    "    smooth:Param(\"Smooth array by applying gaussian\", bool_arg) = True, #Smooth the array by applying a gaussian\n",
    "    sigma:int = 1, #Sigma for gaussian to be applied\n",
    "    \n",
    "    gen_rot:Param(\"Generate rotational profiles and apply parameter calculation to them\", bool_arg) = True, #Generate rotational profiles and apply parameter calculation to them\n",
    "    \n",
    "    gen_section:Param(\"Generate sub-sections of the surface\", bool_arg) = True, #Generate sub-sections of the surface\n",
    "    sec_how:str = 'square', #Type of section to generate, currently only supports 'square'\n",
    "    sec_num:int = 100,      #Number of sections to generate\n",
    "    \n",
    "    profile:Param(\"Calculate profile parameters\", bool_arg) = True, #Calculate profile parameters\n",
    "    section:Param(\"Calculate section parameters\", bool_arg) = True, #Calculate section parameters\n",
    "    \n",
    "    params1D:list|None = None, # list of 1D parameters to calculate,\n",
    "    params2D:list|None = None, #list of 2D parameters to calculate, calculates for both the sections and the whole\n",
    "):\n",
    "    '''\n",
    "    Perform parameter calculation on a given file or directory, if none is provided .\n",
    "    '''\n",
    "    \n",
    "    delims = {'.txt': None,\n",
    "              '.csv': ','}\n",
    "    \n",
    "    path = Path().cwd() if fname == None else Path(fname)\n",
    "    \n",
    "    #Figuring out where the file/s are and results go\n",
    "    if   path.is_dir():\n",
    "        result_dir = path / 'results' if result == None else Path(result)\n",
    "    elif path.is_file():\n",
    "        result_dir = path.parent / 'results' if result == None else Path(result) \n",
    "\n",
    "    if not path.exists(): \n",
    "        raise FileNotFoundError('Could not find file/directory check fname')\n",
    "    if not result_dir.exists(): \n",
    "        result_dir.mkdir(parents=True) #Make the results directory if it doesn't exist\n",
    "        \n",
    "    glob_pattern    = '*' + ext\n",
    "    file_paths = [path] if path.is_file() else path.glob(glob_pattern)\n",
    "    \n",
    "    if result_how == 'concat': \n",
    "        profile_result_list = []\n",
    "        rot_profile_result_list = []\n",
    "        section_result_list = []\n",
    "        sections_result_list = []\n",
    "    \n",
    "    for file_path in file_paths:\n",
    "        array = np.loadtxt(file_path,delimiter=delims[file_path.suffix])\n",
    "        print(file_path)\n",
    "        print('got to before data cleaning')\n",
    "        \n",
    "        #--------------Data Cleaning-------------------------\n",
    "        if level:\n",
    "            array = plane_level(array)\n",
    "            print('Got to level')\n",
    "        if form:\n",
    "            array = remove_form(array)\n",
    "            print('Got to form')\n",
    "        if smooth:\n",
    "            array = smooth_image(array,sigma=sigma)\n",
    "            print('got to smooth')\n",
    "            \n",
    "        #-------------Parameter Calculation------------------\n",
    "        if profile:\n",
    "            if params1D is None:\n",
    "                params1D = profile_mod.__all__\n",
    "            profile_results = compute_parameters(array, params1D, profile_mod, to_df = True)\n",
    "            \n",
    "            if result_how == 'concat':\n",
    "                profile_results.insert(loc = 0, column = 'id', value = file_path.stem)\n",
    "                profile_result_list.append(profile_results)\n",
    "            if gen_rot:\n",
    "                profiles = gen_rot_prof(array)\n",
    "                rot_profile_results = compute_parameters(profiles, params1D, profile_mod, to_df = True)\n",
    "                \n",
    "                if result_how == 'concat':\n",
    "                    rot_profile_results.insert(loc = 0, column = 'id', value = file_path.stem)\n",
    "                    rot_profile_result_list.append(rot_profile_results)\n",
    "        \n",
    "        if section:\n",
    "            if params2d is None:\n",
    "                params2D = areal_mod.__all__\n",
    "            section_results = compute_parameters(array, params2D, areal_mod, to_df = True)\n",
    "            \n",
    "            if result_how == 'concat':\n",
    "                section_results.insert(loc = 0, column = 'id', value = file_path.stem)\n",
    "                section_result_list.append(section_results)\n",
    "            \n",
    "            if gen_section:\n",
    "                sections         = gen_sections(array, how=sec_how, number = sec_num)\n",
    "                sections_results = compute_parameters(sections, params2D, areal_mod, sections = True, to_df = True)\n",
    "                \n",
    "                if result_how == 'concat':\n",
    "                    sections_results.insert(loc = 0, column = 'id', value = file_path.stem)\n",
    "                    sections_result_list.append(sections_results)\n",
    "    #-----------Data saving----------------------\n",
    "        if result_how == 'split':\n",
    "            #TODO: figure out how to make this into a loop\n",
    "            if profile:\n",
    "                profile_file_name  = file_path.stem +'_profile.csv'\n",
    "                result_path = result_dir / profile_file_name\n",
    "                profile_results.to_csv(result_path)\n",
    "                \n",
    "            if gen_rot:\n",
    "                rot_file_name      = file_path.stem + '_rotprofile.csv'\n",
    "                result_path = result_dir / rot_file_name\n",
    "                rot_profile_results.to_csv(result_path)\n",
    "            if section:\n",
    "                section_file_name  = file_path.stem + '_section.csv'\n",
    "                result_path = result_dir / section_file_name\n",
    "                section_results.to_csv(result_path)\n",
    "            if gen_section:\n",
    "                sections_file_name = file_path.stem + '_sections.csv'\n",
    "                result_path = result_dir / sections_file_name\n",
    "                sections_results.to_csv(result_path)\n",
    "            print(f'Finished saving {file_path.stem} results') \n",
    "            \n",
    "    if result_how == 'concat':\n",
    "        if profile:\n",
    "            result_path = result_dir / 'profile.csv'\n",
    "            results = pd.concat(profile_result_list)\n",
    "            results.to_csv(result_path)\n",
    "            print(f'Saved profile results to {result_path}')\n",
    "        if gen_rot:\n",
    "            result_path = result_dir / 'rotprofile.csv'\n",
    "            results = pd.concat(rot_profile_result_list)\n",
    "            results.to_csv(result_path)\n",
    "            print(f'Saved rotational profile results to {result_path}')\n",
    "        if section:\n",
    "            result_path = result_dir / 'section.csv'\n",
    "            results = pd.concat(section_result_list)\n",
    "            results.to_csv(result_path)\n",
    "            print(f'Saved section results to {result_path}')\n",
    "        if gen_section:\n",
    "            result_path = result_dir / 'sections.csv'\n",
    "            results = pd.concat(sections_result_list)\n",
    "            results.to_csv(result_path)\n",
    "            print(f'Saved sub-section results to {result_path}')"
   ]
  },
  {
   "cell_type": "code",
   "execution_count": null,
   "id": "5f8c995a-8042-4357-bd01-8be947f3f29a",
   "metadata": {},
   "outputs": [],
   "source": [
    "#| hide\n",
    "from nbdev import nbdev_export\n",
    "nbdev_export()"
   ]
  },
  {
   "cell_type": "code",
   "execution_count": null,
   "id": "0aa84f24-a909-46bc-8e39-aa35bb49ab05",
   "metadata": {},
   "outputs": [
    {
     "ename": "NameError",
     "evalue": "name 'Union' is not defined",
     "output_type": "error",
     "traceback": [
      "\u001b[1;31m---------------------------------------------------------------------------\u001b[0m",
      "\u001b[1;31mNameError\u001b[0m                                 Traceback (most recent call last)",
      "Input \u001b[1;32mIn [8]\u001b[0m, in \u001b[0;36m<cell line: 1>\u001b[1;34m()\u001b[0m\n\u001b[1;32m----> 1\u001b[0m \u001b[43mUnion\u001b[49m[\u001b[38;5;28mint\u001b[39m,\u001b[38;5;28mfloat\u001b[39m]\n",
      "\u001b[1;31mNameError\u001b[0m: name 'Union' is not defined"
     ]
    }
   ],
   "source": [
    "Union[int,float]"
   ]
  }
 ],
 "metadata": {
  "kernelspec": {
   "display_name": "Python 3 (ipykernel)",
   "language": "python",
   "name": "python3"
  }
 },
 "nbformat": 4,
 "nbformat_minor": 5
}
