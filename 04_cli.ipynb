{
 "cells": [
  {
   "cell_type": "code",
   "execution_count": null,
   "id": "8756be8a-a21d-4ec1-b935-4c9af1d791ab",
   "metadata": {},
   "outputs": [],
   "source": [
    "%load_ext autoreload\n",
    "%autoreload 2"
   ]
  },
  {
   "cell_type": "code",
   "execution_count": null,
   "id": "569cc40e-8764-482a-9858-efd4d3d9c91b",
   "metadata": {},
   "outputs": [],
   "source": [
    "#| default_exp cli"
   ]
  },
  {
   "cell_type": "markdown",
   "id": "94ffcd04-1dfd-433e-b1b7-b8256bc059e6",
   "metadata": {},
   "source": [
    "# CLI \n",
    "> Contains functions for calling Rough from the command line"
   ]
  },
  {
   "cell_type": "code",
   "execution_count": null,
   "id": "1e4649b2-1fab-4e33-a847-1a50d18e660b",
   "metadata": {},
   "outputs": [],
   "source": [
    "#| export\n",
    "from fastcore.script import *\n",
    "import numpy as np\n",
    "import pandas as pd\n",
    "from pathlib import Path\n",
    "\n",
    "from rough.data import *\n",
    "from rough.profile import *\n",
    "from rough.section import *\n",
    "\n",
    "import rough.profile as profile_mod\n",
    "import rough.section as section_mod"
   ]
  },
  {
   "cell_type": "code",
   "execution_count": null,
   "id": "fe820800-2a3b-419d-a5b5-1705a965c0ea",
   "metadata": {},
   "outputs": [
    {
     "data": {
      "text/plain": [
       "(501, 501)"
      ]
     },
     "execution_count": null,
     "metadata": {},
     "output_type": "execute_result"
    }
   ],
   "source": [
    "array = np.loadtxt('example.txt')\n",
    "array.shape"
   ]
  },
  {
   "cell_type": "code",
   "execution_count": null,
   "id": "b6100a7b-74a6-4a7c-8201-6706ae941cb8",
   "metadata": {},
   "outputs": [],
   "source": [
    "#| export\n",
    "def compute_parameters(array, #Input array to be calculate paramers on\n",
    "                       parameter_list:list, #List of parameters to calculate as strings\n",
    "                       valid_module  = None, #module to generate functions from, used to check user input, see rough.cli:rough\n",
    "                       to_df:bool = False, #Return the parameters as a pandas dataframe, with columns set as the parameter names\n",
    "                       **kwargs #Keyword arguments to modify behavior of parameter calls, usually to define sections = True\n",
    "                      ):\n",
    "    \n",
    "    results = []\n",
    "    \n",
    "    #The following generates a {'func':func} dict from given list of parameters if the parameter is available in the module\n",
    "    valid_dict = {k: v for k, v in vars(valid_module).items() if callable(v) and k in valid_module.__all__}\n",
    "    for parameter in parameter_list:\n",
    "        result = valid_dict[parameter](array, **kwargs)\n",
    "        results.append(result)\n",
    "        \n",
    "    if to_df:\n",
    "        results_array = np.array(results)\n",
    "        if len(results_array.shape) == 1: results_array = np.expand_dims(results_array, axis=1) #Fix for when only 1 section is being calculated\n",
    "        return pd.DataFrame(data = results_array.T, columns = parameter_list)\n",
    "    else:\n",
    "        return results"
   ]
  },
  {
   "cell_type": "code",
   "execution_count": null,
   "id": "be0a060f-df08-440b-b709-e8f895fa6b0b",
   "metadata": {},
   "outputs": [
    {
     "data": {
      "text/plain": [
       "['Ra', 'Rms', 'Rsk', 'Rku']"
      ]
     },
     "execution_count": null,
     "metadata": {},
     "output_type": "execute_result"
    }
   ],
   "source": [
    "profile_mod.__all__"
   ]
  },
  {
   "cell_type": "code",
   "execution_count": null,
   "id": "0a767b34-d043-49ff-9012-b028ece4cd96",
   "metadata": {},
   "outputs": [],
   "source": [
    "test_array = np.loadtxt('example.txt')\n",
    "test_results =  compute_parameters(test_array, \n",
    "                                   parameter_list = profile_mod.__all__, \n",
    "                                   valid_module = profile_mod,\n",
    "                                  to_df=True)"
   ]
  },
  {
   "cell_type": "code",
   "execution_count": null,
   "id": "3626865e-702c-4e5f-a449-0c7cf8c6f85a",
   "metadata": {},
   "outputs": [],
   "source": [
    "test_sections = np.load('example_sections.npy')\n",
    "section_results = compute_parameters(test_sections,\n",
    "                                     parameter_list = section_mod.__all__,\n",
    "                                     valid_module = section_mod,\n",
    "                                     sections= True,\n",
    "                                     to_df=False)\n"
   ]
  },
  {
   "cell_type": "code",
   "execution_count": null,
   "id": "9ef7a8ca-de03-4421-91f6-9c78159fa1fc",
   "metadata": {},
   "outputs": [],
   "source": [
    "test_section_result = compute_parameters(test_array, \n",
    "                                          parameter_list = section_mod.__all__,\n",
    "                                          valid_module = section_mod,\n",
    "                                          sections = False,\n",
    "                                          to_df = True)"
   ]
  },
  {
   "cell_type": "code",
   "execution_count": null,
   "id": "58e9934f-2b36-4602-91de-030e87c5f5e7",
   "metadata": {},
   "outputs": [
    {
     "data": {
      "text/html": [
       "<div>\n",
       "<style scoped>\n",
       "    .dataframe tbody tr th:only-of-type {\n",
       "        vertical-align: middle;\n",
       "    }\n",
       "\n",
       "    .dataframe tbody tr th {\n",
       "        vertical-align: top;\n",
       "    }\n",
       "\n",
       "    .dataframe thead th {\n",
       "        text-align: right;\n",
       "    }\n",
       "</style>\n",
       "<table border=\"1\" class=\"dataframe\">\n",
       "  <thead>\n",
       "    <tr style=\"text-align: right;\">\n",
       "      <th></th>\n",
       "      <th>Sa</th>\n",
       "      <th>Sms</th>\n",
       "      <th>Ssk</th>\n",
       "      <th>Sku</th>\n",
       "    </tr>\n",
       "  </thead>\n",
       "  <tbody>\n",
       "    <tr>\n",
       "      <th>0</th>\n",
       "      <td>0.000477</td>\n",
       "      <td>0.000633</td>\n",
       "      <td>0.095001</td>\n",
       "      <td>1.705203</td>\n",
       "    </tr>\n",
       "  </tbody>\n",
       "</table>\n",
       "</div>"
      ],
      "text/plain": [
       "         Sa       Sms       Ssk       Sku\n",
       "0  0.000477  0.000633  0.095001  1.705203"
      ]
     },
     "execution_count": null,
     "metadata": {},
     "output_type": "execute_result"
    }
   ],
   "source": [
    "test_section_result"
   ]
  },
  {
   "cell_type": "code",
   "execution_count": null,
   "id": "51171838-cdfa-45b9-8dd7-4b331883b0a5",
   "metadata": {},
   "outputs": [
    {
     "data": {
      "text/plain": [
       "(100, 4)"
      ]
     },
     "execution_count": null,
     "metadata": {},
     "output_type": "execute_result"
    }
   ],
   "source": [
    "np.array(section_results).T.shape"
   ]
  },
  {
   "cell_type": "code",
   "execution_count": null,
   "id": "ae414925-b8aa-4c41-b299-c85572f0a43c",
   "metadata": {},
   "outputs": [
    {
     "data": {
      "text/html": [
       "<div>\n",
       "<style scoped>\n",
       "    .dataframe tbody tr th:only-of-type {\n",
       "        vertical-align: middle;\n",
       "    }\n",
       "\n",
       "    .dataframe tbody tr th {\n",
       "        vertical-align: top;\n",
       "    }\n",
       "\n",
       "    .dataframe thead th {\n",
       "        text-align: right;\n",
       "    }\n",
       "</style>\n",
       "<table border=\"1\" class=\"dataframe\">\n",
       "  <thead>\n",
       "    <tr style=\"text-align: right;\">\n",
       "      <th></th>\n",
       "      <th>Ra</th>\n",
       "      <th>Rms</th>\n",
       "      <th>Rsk</th>\n",
       "      <th>Rku</th>\n",
       "    </tr>\n",
       "  </thead>\n",
       "  <tbody>\n",
       "    <tr>\n",
       "      <th>0</th>\n",
       "      <td>0.000421</td>\n",
       "      <td>0.000523</td>\n",
       "      <td>-0.341025</td>\n",
       "      <td>-0.675181</td>\n",
       "    </tr>\n",
       "    <tr>\n",
       "      <th>1</th>\n",
       "      <td>0.000415</td>\n",
       "      <td>0.000512</td>\n",
       "      <td>-0.341625</td>\n",
       "      <td>-0.712358</td>\n",
       "    </tr>\n",
       "    <tr>\n",
       "      <th>2</th>\n",
       "      <td>0.000404</td>\n",
       "      <td>0.000496</td>\n",
       "      <td>-0.337859</td>\n",
       "      <td>-0.751569</td>\n",
       "    </tr>\n",
       "    <tr>\n",
       "      <th>3</th>\n",
       "      <td>0.000392</td>\n",
       "      <td>0.000479</td>\n",
       "      <td>-0.322040</td>\n",
       "      <td>-0.764241</td>\n",
       "    </tr>\n",
       "    <tr>\n",
       "      <th>4</th>\n",
       "      <td>0.000376</td>\n",
       "      <td>0.000462</td>\n",
       "      <td>-0.284401</td>\n",
       "      <td>-0.742131</td>\n",
       "    </tr>\n",
       "    <tr>\n",
       "      <th>...</th>\n",
       "      <td>...</td>\n",
       "      <td>...</td>\n",
       "      <td>...</td>\n",
       "      <td>...</td>\n",
       "    </tr>\n",
       "    <tr>\n",
       "      <th>496</th>\n",
       "      <td>0.001152</td>\n",
       "      <td>0.001425</td>\n",
       "      <td>-0.361214</td>\n",
       "      <td>-0.456548</td>\n",
       "    </tr>\n",
       "    <tr>\n",
       "      <th>497</th>\n",
       "      <td>0.001173</td>\n",
       "      <td>0.001452</td>\n",
       "      <td>-0.383951</td>\n",
       "      <td>-0.449050</td>\n",
       "    </tr>\n",
       "    <tr>\n",
       "      <th>498</th>\n",
       "      <td>0.001196</td>\n",
       "      <td>0.001483</td>\n",
       "      <td>-0.393435</td>\n",
       "      <td>-0.454725</td>\n",
       "    </tr>\n",
       "    <tr>\n",
       "      <th>499</th>\n",
       "      <td>0.001224</td>\n",
       "      <td>0.001520</td>\n",
       "      <td>-0.378328</td>\n",
       "      <td>-0.472839</td>\n",
       "    </tr>\n",
       "    <tr>\n",
       "      <th>500</th>\n",
       "      <td>0.001248</td>\n",
       "      <td>0.001551</td>\n",
       "      <td>-0.349728</td>\n",
       "      <td>-0.481032</td>\n",
       "    </tr>\n",
       "  </tbody>\n",
       "</table>\n",
       "<p>501 rows × 4 columns</p>\n",
       "</div>"
      ],
      "text/plain": [
       "           Ra       Rms       Rsk       Rku\n",
       "0    0.000421  0.000523 -0.341025 -0.675181\n",
       "1    0.000415  0.000512 -0.341625 -0.712358\n",
       "2    0.000404  0.000496 -0.337859 -0.751569\n",
       "3    0.000392  0.000479 -0.322040 -0.764241\n",
       "4    0.000376  0.000462 -0.284401 -0.742131\n",
       "..        ...       ...       ...       ...\n",
       "496  0.001152  0.001425 -0.361214 -0.456548\n",
       "497  0.001173  0.001452 -0.383951 -0.449050\n",
       "498  0.001196  0.001483 -0.393435 -0.454725\n",
       "499  0.001224  0.001520 -0.378328 -0.472839\n",
       "500  0.001248  0.001551 -0.349728 -0.481032\n",
       "\n",
       "[501 rows x 4 columns]"
      ]
     },
     "execution_count": null,
     "metadata": {},
     "output_type": "execute_result"
    }
   ],
   "source": [
    "test_results"
   ]
  },
  {
   "cell_type": "code",
   "execution_count": null,
   "id": "e22e174e-a7ec-4114-8cad-77d4722fe80c",
   "metadata": {},
   "outputs": [],
   "source": [
    "#| export\n",
    "@call_parse\n",
    "def rough(\n",
    "    fname:str   = None,   #File name, path or directory with data files to be read\n",
    "    ext:str     = '.txt', #Extension for the  files .txt or .csv\n",
    "    \n",
    "    result:str     = None,     #Directory to write results to, if None, writes to 'results'\n",
    "    result_how:str = 'concat', #How to save the results, 'concat' concatenates all respective types of results \n",
    "                               #(i.e. profile,section,rotational,subsection) into one dataframe file.\n",
    "                               #'split' produces respective result files for each input file. Use split for large amounts of data.\n",
    "    \n",
    "    level:bool  = True, #Perform plane levelling \n",
    "    form:bool   = True, #Remove form by polynomial subtraction\n",
    "    deg:int     = 3,    #Degree of polynomial to remove\n",
    "    smooth:bool = True, #Smooth the array by applying a gaussian\n",
    "    sigma:int   = 1,    #Sigma for gaussian to be applied\n",
    "    \n",
    "    gen_rot:bool= True, #Generate rotational profiles and apply parameter calculation to them\n",
    "    \n",
    "    gen_section:bool= True, #Generate sub-sections of the surface\n",
    "    sec_how:str = 'square', #Type of section to generate, currently only supports 'square'\n",
    "    sec_num:int = 100,      #Number of sections to generate\n",
    "    \n",
    "    profile:bool = True, #Calculate profile parameters\n",
    "    section:bool = True, #Calculate section parameters\n",
    "    \n",
    "    params1D:list = profile_mod.__all__, # list of 1D parameters to calculate,\n",
    "    params2D:list = section_mod.__all__, #list of 2D parameters to calculate, calculates for both the sections and the whole\n",
    "):\n",
    "    '''\n",
    "    This is intended to be the primary method used from the command line.\n",
    "    '''\n",
    "    \n",
    "    delims = {'.txt': None,\n",
    "              '.csv': ','}\n",
    "    \n",
    "    path       = Path().cwd() if fname == None else Path(fname)\n",
    "    \n",
    "    #Figuring out where the file/s are and results go\n",
    "    if   path.is_dir():\n",
    "        result_dir = path / 'results' if result == None else Path(result)\n",
    "    elif path.is_file():\n",
    "        result_dir = path.parent / 'results' if result == None else Path(result) \n",
    "\n",
    "    if not path.exists(): \n",
    "        raise FileNotFoundError('Could not find file/directory check fname')\n",
    "    if not result_dir.exists(): \n",
    "        result_dir.mkdir(parents=True) #Make the results directory if it doesn't exist\n",
    "        \n",
    "    glob_pattern    = '*' + ext\n",
    "    file_paths = [path] if path.is_file() else path.glob(glob_pattern)\n",
    "    \n",
    "    if result_how == 'concat': \n",
    "        profile_result_list = []\n",
    "        rot_profile_result_list = []\n",
    "        section_result_list = []\n",
    "        sections_result_list = []\n",
    "    \n",
    "    for file_path in file_paths:\n",
    "        array = np.loadtxt(file_path,delimiter=delims[file_path.suffix])\n",
    "        print(file_path)\n",
    "        \n",
    "        #--------------Data Cleaning-------------------------\n",
    "        if level:\n",
    "            array = plane_level(array)\n",
    "            print('Got to level')\n",
    "        if form:\n",
    "            array = remove_form(array)\n",
    "            print('Got to form')\n",
    "        if smooth:\n",
    "            array = smooth_image(array,sigma=sigma)\n",
    "            print('got to smooth')\n",
    "            \n",
    "        #-------------Parameter Calculation------------------\n",
    "        if profile:\n",
    "            profile_results = compute_parameters(array, params1D, profile_mod, to_df = True)\n",
    "            \n",
    "            if result_how == 'concat':\n",
    "                result_list.append(profile_results)\n",
    "            if gen_rot:\n",
    "                profiles = gen_rot_prof(array)\n",
    "                rot_profile_results = compute_parameters(profiles, params1D, profile_mod, to_df = True)\n",
    "                \n",
    "                if result_how == 'concat':\n",
    "                    rot_profile_result_list.append(rot_profile_results)\n",
    "        \n",
    "        if section:\n",
    "            section_results = compute_parameters(array, params2D, section_mod)\n",
    "            \n",
    "            if result_how == 'concat':\n",
    "                section_result_list.append(section_results)\n",
    "            \n",
    "            if gen_section:\n",
    "                sections         = gen_sections(array, how=sec_how, number = sec_num)\n",
    "                sections_results = compute_parameters(sections, params2D, section_mod, sections = True, to_df = True)\n",
    "\n",
    "                result_file_name = file_path.stem + '_section' + file_path.suffix #TODO add in .csv and other filer support\n",
    "                result_path = result_dir / result_file_name \n",
    "                print(result_path)\n",
    "            #np.savetxt(result_path, section_results, delim =delim) #Save the section results"
   ]
  },
  {
   "cell_type": "code",
   "execution_count": null,
   "id": "b3d39051-658f-4635-841d-9a26dbc9a7e5",
   "metadata": {},
   "outputs": [
    {
     "data": {
      "text/plain": [
       "False"
      ]
     },
     "execution_count": null,
     "metadata": {},
     "output_type": "execute_result"
    }
   ],
   "source": [
    "path = Path()/'nonexistent_file.txt'\n",
    "pattern = '*.txt'\n",
    "path.exists()"
   ]
  },
  {
   "cell_type": "code",
   "execution_count": null,
   "id": "5cda1fb7-464c-4b76-a873-0733efe35abf",
   "metadata": {},
   "outputs": [
    {
     "name": "stdout",
     "output_type": "stream",
     "text": [
      "its true\n"
     ]
    }
   ],
   "source": [
    "x = 2\n",
    "if x == 2: print('its true')"
   ]
  },
  {
   "cell_type": "code",
   "execution_count": null,
   "id": "a1f6e737-ae5c-4d34-b992-b5650faa4d2b",
   "metadata": {},
   "outputs": [
    {
     "data": {
      "text/plain": [
       "Path('E:/Archaeology/rough/rough')"
      ]
     },
     "execution_count": null,
     "metadata": {},
     "output_type": "execute_result"
    }
   ],
   "source": [
    "path = Path.cwd()\n",
    "path"
   ]
  },
  {
   "cell_type": "code",
   "execution_count": null,
   "id": "5f8c995a-8042-4357-bd01-8be947f3f29a",
   "metadata": {},
   "outputs": [],
   "source": [
    "#| hide\n",
    "from nbdev import nbdev_export\n",
    "nbdev_export()"
   ]
  }
 ],
 "metadata": {
  "kernelspec": {
   "display_name": "Python 3 (ipykernel)",
   "language": "python",
   "name": "python3"
  }
 },
 "nbformat": 4,
 "nbformat_minor": 5
}
