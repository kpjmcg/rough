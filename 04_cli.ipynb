{
 "cells": [
  {
   "cell_type": "code",
   "execution_count": null,
   "id": "8756be8a-a21d-4ec1-b935-4c9af1d791ab",
   "metadata": {},
   "outputs": [],
   "source": [
    "%load_ext autoreload\n",
    "%autoreload 2"
   ]
  },
  {
   "cell_type": "code",
   "execution_count": null,
   "id": "569cc40e-8764-482a-9858-efd4d3d9c91b",
   "metadata": {},
   "outputs": [],
   "source": [
    "#| default_exp cli"
   ]
  },
  {
   "cell_type": "markdown",
   "id": "94ffcd04-1dfd-433e-b1b7-b8256bc059e6",
   "metadata": {},
   "source": [
    "# CLI \n",
    "> Contains functions for calling Rough from the command line"
   ]
  },
  {
   "cell_type": "code",
   "execution_count": null,
   "id": "1e4649b2-1fab-4e33-a847-1a50d18e660b",
   "metadata": {},
   "outputs": [],
   "source": [
    "from fastcore.script import *\n",
    "import numpy as np\n",
    "\n",
    "from rough.data import *\n",
    "from rough.profile import *\n",
    "from rough.section import *\n",
    "from pathlib import Path"
   ]
  },
  {
   "cell_type": "code",
   "execution_count": null,
   "id": "e22e174e-a7ec-4114-8cad-77d4722fe80c",
   "metadata": {},
   "outputs": [],
   "source": [
    "# | export\n",
    "@call_parse\n",
    "def rough(\n",
    "    fname:str   = None,   #File name, path or directory with data files to be read\n",
    "    ext:str     = '.txt', #Extension for the  files .txt or .csv\n",
    "    result:str  = None,   #Directory to write results to, if None, writes to 'results' \n",
    "    \n",
    "    level:bool  = True, #Perform plane levelling \n",
    "    form:bool   = True, #Remove form by polynomial subtraction\n",
    "    deg:int     = 3,    #Degree of polynomial to remove\n",
    "    smooth:bool = True, #Smooth the array by applying a gaussian\n",
    "    sigma:int   = 1,    #Sigma for gaussian to be applied\n",
    "    \n",
    "    gen_rot:bool= True, #Generate rotational profiles and apply parameter calculation to them\n",
    "    \n",
    "    section:bool= True,     #Generate sections\n",
    "    sec_how:str = 'square', #Type of section to generate, currently only supports 'square'\n",
    "    sec_num:int = 100,      #Number of sections to generate\n",
    "    \n",
    "    params1D:list = [Ra,Rms,Rku,Rsk], # list of 1D parameters to calculate,\n",
    "    params2D:list = [Sa,Sms,Sku,Ssk], #list of 2D parameters to calculate\n",
    "):\n",
    "    \n",
    "    delims = {'.txt': None,\n",
    "              '.csv': ','}\n",
    "    \n",
    "    path       = Path().cwd() if fname == None else Path(fname)\n",
    "    \n",
    "    #Figuring out where the results go\n",
    "    if   path.is_dir():\n",
    "        result_dir = path / 'results' if result == None else result\n",
    "    elif path.is_file():\n",
    "        result_dir = path.parent / 'results' if result == None else result # \n",
    "    \n",
    "\n",
    "    if not path.exists(): \n",
    "        raise FileNotFoundError('Could not find file/directory check fname')\n",
    "    if not result_dir.exists(): \n",
    "        result_dir.mkdir(Parents=True) #Make the results directory if it doesn't exist\n",
    "        \n",
    "    glob_pattern    = '*' + ext\n",
    "    file_paths = [path] if path.is_file() else path.glob(glob_pattern)\n",
    "    \n",
    "    for file_path in file_paths:\n",
    "        array = np.loadtxt(file_path,delimiter=delims[file_path.suffix])\n",
    "        print(file_path)\n",
    "        if level:\n",
    "            array = plane_level(array)\n",
    "            print('Got to level')\n",
    "        if form:\n",
    "            array = remove_form(array)\n",
    "            print('Got to form')\n",
    "        if smooth:\n",
    "            array = smooth_image(array,sigma=sigma)\n",
    "            print('got to smooth')\n",
    "        if gen_rot:\n",
    "            profiles = gen_rot_prof(array)\n",
    "            print('got to profiles')\n",
    "            #Helper function that computes parameters\n",
    "        if section:\n",
    "            sections = gen_sections(array, how=sec_how, number = sec_num)\n",
    "            #Helper function that computes parameters\n",
    "            section_results = None\n",
    "            result_file_name = file_path.stem + '_section' + file_path.suffix #TODO add in .csv and other filer support\n",
    "            result_path = result_dir / result_file_name \n",
    "            print(result_path)\n",
    "            #np.savetxt(result_path, section_results, delim =delim) #Save the section results"
   ]
  },
  {
   "cell_type": "code",
   "execution_count": null,
   "id": "3ab556eb-97a0-4a95-9598-656ffe10bf94",
   "metadata": {},
   "outputs": [
    {
     "data": {
      "text/plain": [
       "array([[ 1.57419133e-04,  1.42266877e-04,  1.35691441e-04, ...,\n",
       "        -7.36308144e-04, -7.41222638e-04, -7.37872231e-04],\n",
       "       [ 1.59027040e-04,  1.44439161e-04,  1.40401461e-04, ...,\n",
       "        -6.86596145e-04, -6.92912643e-04, -6.94630788e-04],\n",
       "       [ 1.45829296e-04,  1.36737508e-04,  1.41029337e-04, ...,\n",
       "        -6.06042695e-04, -6.12879493e-04, -6.18730593e-04],\n",
       "       ...,\n",
       "       [-1.24465439e-04, -1.02288970e-04, -6.34991852e-05, ...,\n",
       "         2.75950565e-03,  2.81423047e-03,  2.85402902e-03],\n",
       "       [-9.49129347e-05, -6.31949688e-05, -1.58049753e-05, ...,\n",
       "         3.15482891e-03,  3.22523772e-03,  3.29882757e-03],\n",
       "       [-5.87019947e-05, -2.16723500e-05,  3.29604742e-05, ...,\n",
       "         3.50673568e-03,  3.63254488e-03,  3.77919674e-03]])"
      ]
     },
     "execution_count": null,
     "metadata": {},
     "output_type": "execute_result"
    }
   ],
   "source": [
    "path = Path().cwd()/'example.txt'\n",
    "np.loadtxt(path, delimiter=None)"
   ]
  },
  {
   "cell_type": "code",
   "execution_count": null,
   "id": "b3d39051-658f-4635-841d-9a26dbc9a7e5",
   "metadata": {},
   "outputs": [
    {
     "data": {
      "text/plain": [
       "False"
      ]
     },
     "execution_count": null,
     "metadata": {},
     "output_type": "execute_result"
    }
   ],
   "source": [
    "path = Path()/'nonexistent_file.txt'\n",
    "pattern = '*.txt'\n",
    "path.exists()"
   ]
  },
  {
   "cell_type": "code",
   "execution_count": null,
   "id": "a1f6e737-ae5c-4d34-b992-b5650faa4d2b",
   "metadata": {},
   "outputs": [
    {
     "data": {
      "text/plain": [
       "Path('E:/Archaeology/rough/rough')"
      ]
     },
     "execution_count": null,
     "metadata": {},
     "output_type": "execute_result"
    }
   ],
   "source": [
    "path = Path.cwd()\n",
    "path"
   ]
  },
  {
   "cell_type": "code",
   "execution_count": null,
   "id": "5f8c995a-8042-4357-bd01-8be947f3f29a",
   "metadata": {},
   "outputs": [],
   "source": [
    "#| hide\n",
    "from nbdev import nbdev_export\n",
    "nbdev_export()"
   ]
  }
 ],
 "metadata": {
  "kernelspec": {
   "display_name": "Python 3 (ipykernel)",
   "language": "python",
   "name": "python3"
  }
 },
 "nbformat": 4,
 "nbformat_minor": 5
}
