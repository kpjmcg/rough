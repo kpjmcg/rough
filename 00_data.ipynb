{
 "cells": [
  {
   "cell_type": "code",
   "execution_count": null,
   "metadata": {},
   "outputs": [],
   "source": [
    "%load_ext autoreload\n",
    "%autoreload 2"
   ]
  },
  {
   "cell_type": "code",
   "execution_count": null,
   "metadata": {},
   "outputs": [],
   "source": [
    "#| default_exp data"
   ]
  },
  {
   "cell_type": "markdown",
   "metadata": {},
   "source": [
    "# Data\n",
    "\n",
    "> A simple API for importing and preparing data for use. Mostly manipulates numpy arrays to generate profiles and sections\n",
    "> as well as plane levelling, noise removal and waviness removal/separation. "
   ]
  },
  {
   "cell_type": "code",
   "execution_count": null,
   "metadata": {},
   "outputs": [],
   "source": [
    "#|hide\n",
    "from nbdev.showdoc import *\n"
   ]
  },
  {
   "cell_type": "code",
   "execution_count": null,
   "metadata": {},
   "outputs": [],
   "source": [
    "#note\n",
    "#Generate a gausspulse for testing?"
   ]
  },
  {
   "cell_type": "code",
   "execution_count": null,
   "metadata": {},
   "outputs": [],
   "source": [
    "#| export\n",
    "import numpy as np\n",
    "import imutils\n",
    "import cv2 as cv\n",
    "from matplotlib import pyplot as plt\n",
    "import scipy.ndimage as ndimage\n",
    "import scipy\n",
    "import sklearn.preprocessing\n",
    "import sklearn.linear_model"
   ]
  },
  {
   "cell_type": "code",
   "execution_count": null,
   "metadata": {},
   "outputs": [],
   "source": [
    "#| hide\n",
    "from fastcore.test import *"
   ]
  },
  {
   "cell_type": "markdown",
   "metadata": {},
   "source": [
    "We will be treating 2D arrays as rasters. Basically load any .csv, .txt or other file into a numpy  array as you would normally. Each entry should be the height data for it's respective pixel. "
   ]
  },
  {
   "cell_type": "markdown",
   "metadata": {},
   "source": [
    "Let's read an example image using the OpenCV library"
   ]
  },
  {
   "cell_type": "code",
   "execution_count": null,
   "metadata": {},
   "outputs": [],
   "source": [
    "image = np.loadtxt('BYGS008_top_segment_500samp_10cm_interp089.txt')"
   ]
  },
  {
   "cell_type": "markdown",
   "metadata": {},
   "source": [
    "Let's have a look at the image "
   ]
  },
  {
   "cell_type": "code",
   "execution_count": null,
   "metadata": {},
   "outputs": [],
   "source": [
    "plt.imshow(image)\n",
    "plt.show()"
   ]
  },
  {
   "cell_type": "code",
   "execution_count": null,
   "metadata": {},
   "outputs": [],
   "source": [
    "image_45 = imutils.rotate(image, angle = 50)\n",
    "plt.imshow(image_45)\n",
    "plt.show()"
   ]
  },
  {
   "cell_type": "code",
   "execution_count": null,
   "metadata": {},
   "outputs": [],
   "source": [
    "image.shape"
   ]
  },
  {
   "cell_type": "code",
   "execution_count": null,
   "metadata": {},
   "outputs": [],
   "source": [
    "#| export\n",
    "def gen_rot_prof(array, #2D array of height values\n",
    "                     deg = 180, #Number of degrees to rotate through, i.e 180 gives full 360 rotation\n",
    "                     increment = 1 # indent/180 = number of evenly spaced profiles to calculate.  \n",
    "                    ):\n",
    "    ''' Generates an array of rotational profiles through to deg, in even increments of increment. \n",
    "    Uses OpenCV and Imutils to rotate the array around the center of the array/raster/image, extracts the middle row. \n",
    "    '''\n",
    "    if deg % increment != 0:\n",
    "        raise ValueError('Cannot sample evenly, deg % indent must = 0')\n",
    "    profiles = np.zeros(shape = (deg//increment,array.shape[0]))\n",
    "    index = 0\n",
    "    center = array.shape[0]//2  #Center is returned as index to the right of center for even arrays\n",
    "    for degree in range(0, deg, increment):\n",
    "        rot_array = imutils.rotate(array, angle = degree)\n",
    "        profiles[index, :] = rot_array[center,:]\n",
    "        index += 1\n",
    "    return profiles\n",
    "            "
   ]
  },
  {
   "cell_type": "markdown",
   "metadata": {},
   "source": [
    "Numpy likes the data in various forms for linear algebra, \n",
    "here is a helper to convert an (M,N) matrix into a (n,(X,Y,Z)) matrix. \n"
   ]
  },
  {
   "cell_type": "code",
   "execution_count": null,
   "metadata": {},
   "outputs": [],
   "source": [
    "#| export\n",
    "def image2xyz(im):\n",
    "    '''\n",
    "    Converts 2D (m,n) image/array to xyz coordinates. Used for plane levelling\n",
    "    '''\n",
    "    \n",
    "    m, n = im.shape\n",
    "    Y, X = np.mgrid[:m,:n]\n",
    "    xyz = np.column_stack((X.ravel(),Y.ravel(), im.ravel()))\n",
    "    \n",
    "    return xyz"
   ]
  },
  {
   "cell_type": "code",
   "execution_count": null,
   "metadata": {},
   "outputs": [],
   "source": [
    "#| export \n",
    "def xyz2image(xyz, # (n,3) shape array \n",
    "             ):\n",
    "    '''\n",
    "    Helper to convert back from xyz (n,3) arrays to (M,N) image/matrices\n",
    "    '''\n",
    "    return xyz[:,2].reshape(np.max(xyz[:,1])+1,np.max(xyz[:,0]) + 1)\n",
    "\n",
    "              \n"
   ]
  },
  {
   "cell_type": "code",
   "execution_count": null,
   "metadata": {},
   "outputs": [],
   "source": [
    "im_xyz = image2xyz(image)\n",
    "im_xyz[:5]"
   ]
  },
  {
   "cell_type": "markdown",
   "metadata": {},
   "source": [
    "In order to perform roughness calculations it is recommended to level the data. Here we construct a least-squares solution to the problem, computing the plane results in the same shape as the original image. "
   ]
  },
  {
   "cell_type": "code",
   "execution_count": null,
   "metadata": {},
   "outputs": [],
   "source": [
    "#| export\n",
    "def fit_plane(im, # 2D Numpy array or array like \n",
    "              to_xyz = True #Convert (m,n) matrix to (n,3) points \n",
    "             ):\n",
    "    '''\n",
    "    Fits plane to xyz data, returns the computed values over the shape of the original (m,n) image\n",
    "    '''\n",
    "    if to_xyz:\n",
    "        im = image2xyz(im)\n",
    "    #data = image2xyz(image)\n",
    "    xs = im[:,0]\n",
    "    ys = im[:,1]\n",
    "    zs = im[:,2]\n",
    "    A = np.c_[xs, ys, np.ones(im.shape[0])]\n",
    "    C,_,_,_ = scipy.linalg.lstsq(A, zs) #Compute coefficients \n",
    "    \n",
    "    X,Y = np.meshgrid(np.arange(0, np.max(xs)+1, 1), np.arange(0, np.max(ys)+1, 1)) #Grid over ther range of pixel coords\n",
    "    \n",
    "    Z = C[0]*X + C[1]*Y + C[2] #Compute values over the grid\n",
    "    \n",
    "    return Z "
   ]
  },
  {
   "cell_type": "code",
   "execution_count": null,
   "metadata": {},
   "outputs": [],
   "source": [
    "#| export\n",
    "def remove_form(im, # 2D Numpy array or array like\n",
    "               degree = 3, # Polynomial degree to remove\n",
    "               return_form = False # Return the form instead of removing it\n",
    "               ):\n",
    "    '''\n",
    "    Remove the form of the raster by fitting a polynomial of specified degree and subtracting it. \n",
    "    '''\n",
    "    imagexyz = image2xyz(im)\n",
    "    imagexy  = imagexyz[:,:2]\n",
    "    imagez   = imagexyz[:,2]\n",
    "    \n",
    "    poly     = sklearn.preprocessing.PolynomialFeatures(degree=degree, include_bias = False) #No bias as it is introduced later\n",
    "    features = poly.fit_transform(imagexy)\n",
    "    \n",
    "    poly_reg_model = sklearn.linear_model.LinearRegression() #Polynomial Regression Model\n",
    "    poly_reg_model.fit(features, imagez)\n",
    "    \n",
    "    predictions    =  poly_reg_model.predict(features) #Get the fitted values\n",
    "    form = predictions.reshape(int(np.max(imagexyz[:,1])) + 1, #Reshape the predictions into the original image dimensions\n",
    "                               int(np.max(imagexyz[:,0])) + 1)\n",
    "    if return_form:\n",
    "        return form\n",
    "    else:\n",
    "        return im - form\n",
    "    "
   ]
  },
  {
   "cell_type": "code",
   "execution_count": null,
   "metadata": {},
   "outputs": [],
   "source": [
    "image_f = remove_form(image)\n",
    "plt.imshow(image_f)\n",
    "plt.show()"
   ]
  },
  {
   "cell_type": "code",
   "execution_count": null,
   "metadata": {},
   "outputs": [],
   "source": [
    "image_form = remove_form(image, return_form = True)\n",
    "plt.imshow(image_form)\n",
    "plt.show()"
   ]
  },
  {
   "cell_type": "code",
   "execution_count": null,
   "metadata": {},
   "outputs": [],
   "source": [
    "plt.imshow(image)\n",
    "plt.show()"
   ]
  },
  {
   "cell_type": "code",
   "execution_count": null,
   "metadata": {},
   "outputs": [],
   "source": [
    "w = np.array([[1,1,1],[0,0,0],[-1,-1,-1]])\n",
    "u = np.array([[1,0,-1]]*3)\n",
    "test_close(w - fit_plane(w), np.zeros(w.shape))\n",
    "test_close(u - fit_plane(u), np.zeros(u.shape))\n",
    "test_fail(fit_plane, kwargs = dict(xyz=np.array([1])))\n",
    "test_fail(fit_plane, kwargs = dict(xyz=np.array([[1,1]])))"
   ]
  },
  {
   "cell_type": "markdown",
   "metadata": {},
   "source": [
    "In order to level our data we just:"
   ]
  },
  {
   "cell_type": "code",
   "execution_count": null,
   "metadata": {},
   "outputs": [],
   "source": [
    "level_image = image - fit_plane(image)\n",
    "plt.imshow(level_image)\n",
    "plt.show()"
   ]
  },
  {
   "cell_type": "code",
   "execution_count": null,
   "metadata": {},
   "outputs": [],
   "source": [
    "#| export \n",
    "def plane_level(im, #Numpy array or array like\n",
    "                norm = True #Normalize the data by subtracting the mean\n",
    "               ):\n",
    "    '''\n",
    "    Level an (m,n) array by computing the best fit plane and subtracting the results\n",
    "    '''\n",
    "    if norm:\n",
    "        im = im - np.mean(im, axis = None)\n",
    "    return im - fit_plane(im)"
   ]
  },
  {
   "cell_type": "markdown",
   "metadata": {},
   "source": [
    "In order to minimize noise we can apply a gaussian filter. "
   ]
  },
  {
   "cell_type": "code",
   "execution_count": null,
   "metadata": {},
   "outputs": [],
   "source": [
    "#| export\n",
    "def smooth_image(array, #Numpy array or array like\n",
    "                 sigma = 1, #Standard deviation for gaussian kernel Useful for determining the wavelength of the low pass filter\n",
    "                 **kwargs #Keyword arguments for modification of the gaussian_filter function\n",
    "                ):\n",
    "    '''\n",
    "    Removes low frequency/wavelength features ('noise') by applying a gaussian filter on the image. \n",
    "    Thin wrapper of scipy.ndimage.gaussian_filter.\n",
    "    '''\n",
    "    return ndimage.gaussian_filter(input = array, sigma = sigma, **kwargs)"
   ]
  },
  {
   "cell_type": "code",
   "execution_count": null,
   "metadata": {},
   "outputs": [],
   "source": [
    "plt.imshow(smooth_image(image, sigma = 1))\n",
    "plt.show()"
   ]
  },
  {
   "cell_type": "code",
   "execution_count": null,
   "metadata": {},
   "outputs": [],
   "source": [
    "plt.imshow(smooth_image(image, sigma = 10))\n",
    "plt.show()"
   ]
  },
  {
   "cell_type": "code",
   "execution_count": null,
   "metadata": {},
   "outputs": [],
   "source": [
    "#| export\n",
    "def gen_sections(array #2D array (or arraylike) of height values\n",
    "                ):\n",
    "    pass\n",
    "                 "
   ]
  },
  {
   "cell_type": "code",
   "execution_count": null,
   "metadata": {},
   "outputs": [],
   "source": [
    "#| hide\n",
    "from nbdev import nbdev_export\n",
    "nbdev_export()"
   ]
  }
 ],
 "metadata": {
  "kernelspec": {
   "display_name": "Python 3 (ipykernel)",
   "language": "python",
   "name": "python3"
  }
 },
 "nbformat": 4,
 "nbformat_minor": 4
}
