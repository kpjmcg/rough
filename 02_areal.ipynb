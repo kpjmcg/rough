{
 "cells": [
  {
   "cell_type": "code",
   "execution_count": null,
   "id": "986f6c3c-7ce2-4820-b61b-97b6f97df867",
   "metadata": {},
   "outputs": [],
   "source": [
    "%load_ext autoreload\n",
    "%autoreload 2"
   ]
  },
  {
   "cell_type": "code",
   "execution_count": null,
   "id": "d802ef2f-8b54-4fb1-b75c-01f80584dd46",
   "metadata": {},
   "outputs": [],
   "source": [
    "#| default_exp areal"
   ]
  },
  {
   "cell_type": "markdown",
   "id": "050153ff-ca69-45bd-8800-6ff4090a7cae",
   "metadata": {},
   "source": [
    "# Areal\n",
    "\n",
    "> Set of functions for calculating 2 Dimensional areal surface roughness parameters."
   ]
  },
  {
   "cell_type": "code",
   "execution_count": null,
   "id": "d6b416a8-2746-4808-a645-ae6194bf3875",
   "metadata": {},
   "outputs": [],
   "source": [
    "#| export\n",
    "from rough.data import *\n",
    "from rough.profile import *\n",
    "\n",
    "import numpy as np\n",
    "from matplotlib import pyplot as plt\n",
    "from scipy.stats import skew, kurtosis\n",
    "from scipy.signal import find_peaks, correlate"
   ]
  },
  {
   "cell_type": "code",
   "execution_count": null,
   "id": "78cbaddc-a606-44f1-8308-9c5d569d29e6",
   "metadata": {},
   "outputs": [],
   "source": [
    "#| hide\n",
    "from fastcore.test import *"
   ]
  },
  {
   "cell_type": "markdown",
   "id": "f54afdae-6942-42be-8d7e-217e0d715353",
   "metadata": {},
   "source": [
    "To demonstrate, we're going to build on data we processed in `data`"
   ]
  },
  {
   "cell_type": "code",
   "execution_count": null,
   "id": "f8a7801c-397a-4bd0-864b-e999dc843a38",
   "metadata": {},
   "outputs": [],
   "source": [
    "image    = np.loadtxt('example.txt')\n",
    "sections = np.load('example_sections.npy')"
   ]
  },
  {
   "cell_type": "code",
   "execution_count": null,
   "id": "84ebe564-99f1-4681-b5a0-fd2d8c8e634a",
   "metadata": {},
   "outputs": [],
   "source": [
    "#| export\n",
    "def Sa(im, #Numpy array or arraylike. typically (m,n) for 1 array or (k,m,n) for k (m,n) stacked arrays\n",
    "        norm = True,\n",
    "        axis = None,\n",
    "        sections = False, #If true, calculates the Sa of the stack of images, (i.e. sets axis = (1,2))\n",
    "        **kwargs\n",
    "      ):\n",
    "    '''\n",
    "    Calculates the mean absolute difference from the mean plane. Equivalent to Ra(array, axis = None)\n",
    "    '''\n",
    "    if sections:\n",
    "        axis = (1,2)\n",
    "    if norm:\n",
    "        im = im - np.mean(im, axis = axis, keepdims=True)\n",
    "        \n",
    "    return np.mean(np.absolute(im), axis = axis)"
   ]
  },
  {
   "cell_type": "code",
   "execution_count": null,
   "id": "6016a8c5-572b-47be-b6a4-cb831db4e128",
   "metadata": {},
   "outputs": [],
   "source": [
    "(Sa(image),\n",
    " Sa(image,axis = (0,1)),\n",
    " Sa(sections,sections=True)[:3],\n",
    " Sa(sections,axis=(1,2))[:3])"
   ]
  },
  {
   "cell_type": "code",
   "execution_count": null,
   "id": "91700323-9f9e-4226-b564-2666e89caa50",
   "metadata": {},
   "outputs": [],
   "source": [
    "#| export\n",
    "def Sms(im, #Numpy array or arraylike. typically (m,n) for 1 array or (k,m,n) for k (m,n) stacked arrays\n",
    "        norm = True,\n",
    "        axis = None,\n",
    "        sections = False, #If true, calculates the Sms of the stack of images, (i.e. sets axis = (1,2))\n",
    "        **kwargs\n",
    "       ):\n",
    "    '''\n",
    "    Calculates the root mean square difference from the mean plane. Equivalent to Rms(array, axis = None)\n",
    "    '''\n",
    "    if sections:\n",
    "        axis = (1,2)\n",
    "    if norm:\n",
    "        im = im - np.mean(im, axis = axis, keepdims = True)\n",
    "\n",
    "    return np.sqrt(np.mean(np.square(im), axis = axis))"
   ]
  },
  {
   "cell_type": "code",
   "execution_count": null,
   "id": "c2235e27-7147-4fd9-b82b-04d90f4aec4c",
   "metadata": {},
   "outputs": [],
   "source": [
    "(Sms(image),Sms(sections,sections=True)[:5])"
   ]
  },
  {
   "cell_type": "code",
   "execution_count": null,
   "id": "e291a694-9d9d-44c5-a58b-69b35d8da7c5",
   "metadata": {},
   "outputs": [],
   "source": [
    "#| export\n",
    "def Ssk(im, #Numpy array or arraylike. typically (m,n) for 1 array or (k,m,n) for k (m,n) stacked arrays\n",
    "        norm = True,\n",
    "        axis = None,\n",
    "        sections = False, #If true, calculates the Ssk of the stack of images, (i.e. sets axis = (1,2))\n",
    "        **kwargs\n",
    "       ):\n",
    "    '''\n",
    "    Calculates the Skew of the section. Equivalent to Rsk(im, axis = None) for an (m,n) array\n",
    "    '''\n",
    "    if sections:\n",
    "        axis = (1,2)\n",
    "    if norm:\n",
    "        im = im - np.mean(im, axis = axis, keepdims = True)\n",
    "     \n",
    "    return skew(a = im, axis=axis, **kwargs)\n",
    "        \n",
    "        "
   ]
  },
  {
   "cell_type": "code",
   "execution_count": null,
   "id": "611c541e-519d-4aba-b20e-df97cfc2e102",
   "metadata": {},
   "outputs": [],
   "source": [
    "(Ssk(image),Ssk(sections, sections = True)[:5])"
   ]
  },
  {
   "cell_type": "code",
   "execution_count": null,
   "id": "f312914e-61e3-4c02-89ff-38acdca97389",
   "metadata": {},
   "outputs": [],
   "source": [
    "#| export\n",
    "def Sku(im, #Numpy array or arraylike. typically (m,n) for 1 array or (k,m,n) for k (m,n) stacked arrays\n",
    "        norm = True,\n",
    "        axis = None,\n",
    "        sections = False, #If true, calculates the Sku of the stack of images, (i.e. sets axis = (1,2))\n",
    "        **kwargs #Keyword arguments to modify the behavior of scipy.stats:kurtosis\n",
    "       ):\n",
    "    '''\n",
    "    Calculates the Kurtosis of the section. Equivalent to Rku(im, axis = None) for an (m,n) array\n",
    "    '''\n",
    "    if sections:\n",
    "        axis = (1,2)\n",
    "    if norm:\n",
    "        im = im - np.mean(im, axis = axis, keepdims = True)\n",
    "     \n",
    "    return kurtosis(a = im, axis=axis, **kwargs)"
   ]
  },
  {
   "cell_type": "code",
   "execution_count": null,
   "id": "88b19a89-ba33-4240-acea-f381d15abedb",
   "metadata": {},
   "outputs": [],
   "source": [
    "(Sku(image),Sku(sections,sections=True)[:5])"
   ]
  },
  {
   "cell_type": "code",
   "execution_count": null,
   "id": "24b4f47b-9b77-43cc-9048-1afe151c9199",
   "metadata": {},
   "outputs": [],
   "source": [
    "array_1 = np.ones((4,4))\n",
    "array_2 = np.ones((4,4)) * 2\n",
    "array_3 = np.ones((4,4)) * 3\n",
    "stack1232 = np.array([array_1, array_2, array_3,array_2])\n",
    "stack1232"
   ]
  },
  {
   "cell_type": "code",
   "execution_count": null,
   "id": "ac7a0d6b-c9b0-410e-8714-4db329601284",
   "metadata": {},
   "outputs": [],
   "source": [
    "#| export\n",
    "def Sp(im, #Numpy array or arraylike. typically (m,n) for 1 array or (k,m,n) for k (m,n) stacked arrays\n",
    "        norm = True,\n",
    "        axis = None,\n",
    "        sections = False, #If true, calculates the Sp of the stack of images, (i.e. sets axis = (1,2))\n",
    "        **kwargs #keyword arguments to modify behaviour of numpy.amax\n",
    "       ):\n",
    "    '''\n",
    "    Calculates the maximum peak height of the surface\n",
    "    '''\n",
    "    if sections: \n",
    "        axis = (1,2)\n",
    "    if norm:\n",
    "        im = im - np.mean(im, axis = axis, keepdims = True)\n",
    "    \n",
    "    return np.amax(im, axis = axis, **kwargs)"
   ]
  },
  {
   "cell_type": "code",
   "execution_count": null,
   "id": "4b3f4e42-5324-4a3b-864f-47a544b36b01",
   "metadata": {},
   "outputs": [],
   "source": [
    "test_eq(Sp(np.array([2,2,4,4,-6,6]), norm=False), 6)\n",
    "test_eq(Sp(np.array([0,0,0,0,0,0]), norm=True), 0)\n",
    "test_eq(Sp(stack1232, norm=False, sections = True), np.array([1,2,3,2]))"
   ]
  },
  {
   "cell_type": "code",
   "execution_count": null,
   "id": "7e3aa8fd-c17d-49a9-be2a-70c86a99ae8a",
   "metadata": {},
   "outputs": [],
   "source": [
    "#| export\n",
    "def Sv(im, #Numpy array or arraylike. typically (m,n) for 1 array or (k,m,n) for k (m,n) stacked arrays\n",
    "       norm = True,\n",
    "       axis = None,\n",
    "       sections = False, #If true, calculates the Sv of the stack of images , (i.e. sets axis = (1,2))\n",
    "       **kwargs #keyword arguments to modify behaviour of numpy.amin\n",
    "      ):\n",
    "    '''\n",
    "    Calculates the absolute maximum pit depth of the surface\n",
    "    '''\n",
    "    if sections:\n",
    "        axis = (1,2)\n",
    "    if norm:\n",
    "        im = im - np.mean(im, axis = axis, keepdims = True)\n",
    "    \n",
    "    return abs(np.amin(im,axis = axis, **kwargs))"
   ]
  },
  {
   "cell_type": "code",
   "execution_count": null,
   "id": "72808373-e7e6-44fa-bb2c-33207a1b4cd1",
   "metadata": {},
   "outputs": [],
   "source": [
    "test_eq(Sv(np.array([0,0,0,0,-5]), norm = False), 5) \n",
    "test_eq(Sv(np.array([1,2,3,2,2,1]), norm = False), 1)\n",
    "test_eq(Sv(stack1232, norm=False, sections = True), np.array([1,2,3,2]))"
   ]
  },
  {
   "cell_type": "code",
   "execution_count": null,
   "id": "da841476-0164-4e91-ba17-1fecff48c30b",
   "metadata": {},
   "outputs": [],
   "source": [
    "#| export\n",
    "def Sz(im, #Numpy array or arraylike, typically (m,n) for 1 array or (k,m,n) for k (m,n) stacked arrays\n",
    "       norm = True,\n",
    "       axis = None,\n",
    "       sections = False, #If true, calculates the Sz of the stack of images, (i.e. sets axis = (1,2))\n",
    "       **kwargs #keyword arguments to be passed to numpy.ptp\n",
    "      ):\n",
    "    '''\n",
    "    Calculates the maximum height (max peak + absolute max pit) of the surface. Synonymous with the range of height\n",
    "    values or peak to peak. \n",
    "    '''\n",
    "    if sections:\n",
    "        axis = (1,2)\n",
    "    if norm:\n",
    "        im = im - np.mean(im, axis = axis, keepdims = True)\n",
    "        \n",
    "    return np.ptp(im, axis = axis, **kwargs)\n",
    "    "
   ]
  },
  {
   "cell_type": "code",
   "execution_count": null,
   "id": "8f1a59ec-da39-4992-a1bc-eb48df19d3f7",
   "metadata": {},
   "outputs": [],
   "source": [
    "test_eq(Sz(np.array([0,0,0,5]), norm = False), 5)\n",
    "test_eq(Sz(np.array([-5,-1,-1,-1]), norm = False), 4)\n",
    "test_eq(Sz(stack1232, norm = False, sections = True,), np.array([0,0,0,0])) \n",
    "test_eq(Sz(np.array([-5,-1,-1,-1,-1])), Sz(np.array([5,1,1,1,1])))"
   ]
  },
  {
   "cell_type": "markdown",
   "id": "8ca5cfc0-8e7e-4976-86f0-d76dfe501211",
   "metadata": {},
   "source": [
    "### Spatial Parameters"
   ]
  },
  {
   "cell_type": "markdown",
   "id": "aae38f43-08ae-4eea-a5b9-3eff42b01422",
   "metadata": {},
   "source": [
    "Autocorrelation is the delayed correlation of a signal with itself. In this case our \"signal\" is the height data.\n",
    "\n",
    "To generate the autocorrelation function and visualise it we can use the scipy correlate function."
   ]
  },
  {
   "cell_type": "code",
   "execution_count": null,
   "id": "9f527dcd-c49c-4742-9dc8-912da77280cb",
   "metadata": {},
   "outputs": [],
   "source": [
    "im_mean = image - np.mean(image,axis=None, keepdims = True)\n",
    "im_cor = correlate(im_mean,im_mean, mode = 'same')\n",
    "plt.imshow(im_cor)\n",
    "plt.show()"
   ]
  },
  {
   "cell_type": "markdown",
   "id": "0a70d5fd-70e8-4ce0-a66e-2405f55d9ea4",
   "metadata": {},
   "source": [
    "The Spatial Autocorellation parameter is the correlation of the surface with itself, with values normalized to be \n",
    "in the range [-1,1].\n",
    "\n",
    "Sal is the distance which has the fastest decay to a given parameter (s), usually 0.2. \n",
    "\n",
    "To calculate Sal, we calculate the autocorellation function (acf), normalize the result, generate a distance matrix from the \n",
    "center of the array, and find the shortest distance (d) that is  acf <= s. \n",
    "\n",
    "We already have the im_cor above. So lets find the Sal step by step. "
   ]
  },
  {
   "cell_type": "code",
   "execution_count": null,
   "id": "0d9b8fde-44bd-4ef9-8118-0a4cdbdb7971",
   "metadata": {},
   "outputs": [],
   "source": [
    "im_ncor = normalize(im_cor, axis = None, how = 'minmax') #minmax defaults to [-1,1] which is typically unusual\n",
    "plt.imshow(im_ncor)\n",
    "plt.show()"
   ]
  },
  {
   "cell_type": "markdown",
   "id": "b73d52ec-1787-4949-a57b-7ae5a634b500",
   "metadata": {},
   "source": [
    "Lets see what values are below 0.2"
   ]
  },
  {
   "cell_type": "code",
   "execution_count": null,
   "id": "302db285-43e2-45af-8e74-04bd41be3f5c",
   "metadata": {},
   "outputs": [],
   "source": [
    "plt.imshow(np.where(im_ncor <= 0.2, im_ncor, np.NaN))\n",
    "plt.show()"
   ]
  },
  {
   "cell_type": "markdown",
   "id": "0aca60a0-347a-423f-925b-800321934872",
   "metadata": {},
   "source": [
    "We need to find the shortest distance from the center to the edge of this oval of NaNs. I generate a distance matrix\n",
    "and find the min, this might not be the fastest/most efficient solution so if you have a suggestion to improve it then raise an issue on the github!"
   ]
  },
  {
   "cell_type": "code",
   "execution_count": null,
   "id": "bae3d2a4-02f5-4cc6-9ac8-ef79daad2f17",
   "metadata": {},
   "outputs": [],
   "source": [
    "dists = distance_matrix(im_ncor.shape)\n",
    "plt.imshow(dists)\n",
    "plt.show()"
   ]
  },
  {
   "cell_type": "markdown",
   "id": "a7fe216c-5449-47e0-a564-e54952ada1d1",
   "metadata": {},
   "source": [
    "Now we filter the dists by the normalize correlation function and return the resulting min. "
   ]
  },
  {
   "cell_type": "code",
   "execution_count": null,
   "id": "2a53f3b4-ad41-4eb4-949a-b0bcd70f0566",
   "metadata": {},
   "outputs": [],
   "source": [
    "im_Sal = np.nanmin(np.where(im_ncor <= 0.2, dists, np.NaN)) #This reads: Where im_ncor is less than or equal to 0.2, return respective dist, else return NaN\n",
    "print(f'The images Sal is: {im_Sal} Pixel Units')"
   ]
  },
  {
   "cell_type": "markdown",
   "id": "03bb8695-ef2e-4044-97ac-84b9260f2461",
   "metadata": {},
   "source": [
    "Note the use of Pixel Units, Rough can't tell what units you are using (yet!), so be sure to convert the pixel distance to whatever unit you are using. "
   ]
  },
  {
   "cell_type": "code",
   "execution_count": null,
   "id": "709d0673-b849-429b-b767-abcd7338f875",
   "metadata": {},
   "outputs": [],
   "source": [
    "def Sal(im, #Numpy array or arraylike, typically (m,n) for 1 array or (k,m,n) for k (m,n) stacked arrays\n",
    "       norm = True, #Normalize the input array\n",
    "       norm_how = 'center', #How to normalize the data, see `normalize`,\n",
    "       axis = None, \n",
    "       sections = False, #If true, calculates the Sal of the stack of images, (i.e. sets axis = (1,2))\n",
    "       s = 0.2, #Default decay value.\n",
    "       scale = True, #Scale the respective array via im / np.linalg.norm(im)\n",
    "       **kwargs #keyword arguments to be passed to numpy.ptp\n",
    "      ):\n",
    "    '''\n",
    "    Calculates the autocorellation length parameter. Defined as the horizontal distance of the autocorellation function\n",
    "    which has the fastest decay to s, with  0 <= s <= 1. \n",
    "    Can determine the presense of lay, the direction of the predominant surface pattern. \n",
    "    '''\n",
    "    if sections:\n",
    "        axis = (1,2)\n",
    "    \n",
    "    if norm:\n",
    "        normalize(im, axis = axis, how = norm_how)\n",
    "        \n",
    "    #Calculate and normalize autocorrelation results for the array to (-1,1) range\n",
    "    im_corr = correlate(im,im,mode = 'same')\n",
    "    im_norm_corr = normalize(im_corr, axis = axis, how = 'minmax')     \n",
    "    \n",
    "    #Find the smallest distance where autocorrelation function is <= s\n",
    "    dists = distance_matrix(im_norm_corr.shape)\n",
    "    \n",
    "    dists_where = np.where(im_norm_corr <= s, dists, np.NaN)\n",
    "    \n",
    "    return np.nanmin(dists_where)\n",
    "    \n",
    "    #TODO test with stack of images\n",
    "    #Find the distance which is lowest that matches <= s \n"
   ]
  },
  {
   "cell_type": "code",
   "execution_count": null,
   "id": "ddf788a2-96bd-4f6f-a4d6-0d276876368c",
   "metadata": {},
   "outputs": [],
   "source": [
    "test_eq(im_Sal, Sal(image))"
   ]
  },
  {
   "cell_type": "code",
   "execution_count": null,
   "id": "6a620be2-85c3-4bd0-84e9-22c92d214454",
   "metadata": {},
   "outputs": [],
   "source": [
    "distance_matrix(sections.shape).shape\n"
   ]
  },
  {
   "cell_type": "code",
   "execution_count": null,
   "id": "19c4221e-f69b-4a09-b29a-277c89e73d07",
   "metadata": {},
   "outputs": [],
   "source": [
    "a_10 = np.arange(10)\n",
    "a_10"
   ]
  },
  {
   "cell_type": "code",
   "execution_count": null,
   "id": "f68222a0-9732-4504-a78a-87741e018464",
   "metadata": {},
   "outputs": [],
   "source": [
    "a_20 = np.arange(10,20)\n",
    "a_20"
   ]
  },
  {
   "cell_type": "code",
   "execution_count": null,
   "id": "7b41cdea-78e8-4a6b-9c77-95fba90f29a9",
   "metadata": {},
   "outputs": [],
   "source": [
    "np.where(a_10>=5, np.NaN, a_10)"
   ]
  },
  {
   "cell_type": "code",
   "execution_count": null,
   "id": "8dda05a8-b64f-46ac-960d-7aafa4d74e54",
   "metadata": {},
   "outputs": [],
   "source": [
    "a_16 = np.arange(16).reshape(4,4)\n",
    "a_16"
   ]
  },
  {
   "cell_type": "code",
   "execution_count": null,
   "id": "9efa4b2c-61d1-421a-a8f3-8fff434d0099",
   "metadata": {},
   "outputs": [],
   "source": [
    "a_dist = distance_matrix(a_16.shape)\n",
    "a_dist"
   ]
  },
  {
   "cell_type": "code",
   "execution_count": null,
   "id": "cd5725bc-9ec1-4631-b082-9c54cd652aa6",
   "metadata": {},
   "outputs": [],
   "source": [
    "a_where = np.where(a_16>=13, a_dist, np.NaN)\n",
    "np.nanmin(a_where)"
   ]
  },
  {
   "cell_type": "code",
   "execution_count": null,
   "id": "61122d21-b76c-4208-8a0d-eb333ffdcd96",
   "metadata": {},
   "outputs": [],
   "source": [
    "#| hide\n",
    "from nbdev import nbdev_export\n",
    "nbdev_export()"
   ]
  }
 ],
 "metadata": {
  "kernelspec": {
   "display_name": "Python 3 (ipykernel)",
   "language": "python",
   "name": "python3"
  }
 },
 "nbformat": 4,
 "nbformat_minor": 5
}
