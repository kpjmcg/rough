{
 "cells": [
  {
   "cell_type": "code",
   "execution_count": null,
   "id": "986f6c3c-7ce2-4820-b61b-97b6f97df867",
   "metadata": {},
   "outputs": [],
   "source": [
    "%load_ext autoreload\n",
    "%autoreload 2"
   ]
  },
  {
   "cell_type": "code",
   "execution_count": null,
   "id": "d802ef2f-8b54-4fb1-b75c-01f80584dd46",
   "metadata": {},
   "outputs": [],
   "source": [
    "#| default_exp areal"
   ]
  },
  {
   "cell_type": "markdown",
   "id": "050153ff-ca69-45bd-8800-6ff4090a7cae",
   "metadata": {},
   "source": [
    "# Areal\n",
    "\n",
    "> Set of functions for calculating 2 Dimensional areal surface roughness parameters."
   ]
  },
  {
   "cell_type": "code",
   "execution_count": null,
   "id": "d6b416a8-2746-4808-a645-ae6194bf3875",
   "metadata": {},
   "outputs": [],
   "source": [
    "#| export\n",
    "from rough.data import *\n",
    "from rough.profile import *\n",
    "\n",
    "import numpy as np\n",
    "from matplotlib import pyplot as plt\n",
    "from scipy.stats import skew, kurtosis\n",
    "from scipy.signal import find_peaks, correlate"
   ]
  },
  {
   "cell_type": "code",
   "execution_count": null,
   "id": "78cbaddc-a606-44f1-8308-9c5d569d29e6",
   "metadata": {},
   "outputs": [],
   "source": [
    "#| hide\n",
    "from fastcore.test import *"
   ]
  },
  {
   "cell_type": "markdown",
   "id": "f54afdae-6942-42be-8d7e-217e0d715353",
   "metadata": {},
   "source": [
    "To demonstrate, we're going to build on data we processed in `data`"
   ]
  },
  {
   "cell_type": "code",
   "execution_count": null,
   "id": "f8a7801c-397a-4bd0-864b-e999dc843a38",
   "metadata": {},
   "outputs": [],
   "source": [
    "image    = np.loadtxt('example.txt')\n",
    "sections = np.load('example_sections.npy')"
   ]
  },
  {
   "cell_type": "code",
   "execution_count": null,
   "id": "84ebe564-99f1-4681-b5a0-fd2d8c8e634a",
   "metadata": {},
   "outputs": [],
   "source": [
    "#| export\n",
    "def Sa(im, #Numpy array or arraylike. typically (m,n) for 1 array or (k,m,n) for k (m,n) stacked arrays\n",
    "        norm = True,\n",
    "        axis = None,\n",
    "        sections = False, #If true, calculates the Sa of the stack of images, (i.e. sets axis = (1,2))\n",
    "        **kwargs\n",
    "      ):\n",
    "    '''\n",
    "    Calculates the mean absolute difference from the mean plane. Equivalent to Ra(array, axis = None)\n",
    "    '''\n",
    "    if sections:\n",
    "        axis = (1,2)\n",
    "    if norm:\n",
    "        im = im - np.mean(im, axis = axis, keepdims=True)\n",
    "        \n",
    "    return np.mean(np.absolute(im), axis = axis)"
   ]
  },
  {
   "cell_type": "code",
   "execution_count": null,
   "id": "6016a8c5-572b-47be-b6a4-cb831db4e128",
   "metadata": {},
   "outputs": [
    {
     "data": {
      "text/plain": [
       "(0.00047688714130073284,\n",
       " 0.00047688714130073284,\n",
       " array([0.00028241, 0.00042414, 0.00020014]),\n",
       " array([0.00028241, 0.00042414, 0.00020014]))"
      ]
     },
     "execution_count": null,
     "metadata": {},
     "output_type": "execute_result"
    }
   ],
   "source": [
    "(Sa(image),\n",
    " Sa(image,axis = (0,1)),\n",
    " Sa(sections,sections=True)[:3],\n",
    " Sa(sections,axis=(1,2))[:3])"
   ]
  },
  {
   "cell_type": "code",
   "execution_count": null,
   "id": "91700323-9f9e-4226-b564-2666e89caa50",
   "metadata": {},
   "outputs": [],
   "source": [
    "#| export\n",
    "def Sms(im, #Numpy array or arraylike. typically (m,n) for 1 array or (k,m,n) for k (m,n) stacked arrays\n",
    "        norm = True,\n",
    "        axis = None,\n",
    "        sections = False, #If true, calculates the Sms of the stack of images, (i.e. sets axis = (1,2))\n",
    "        **kwargs\n",
    "       ):\n",
    "    '''\n",
    "    Calculates the root mean square difference from the mean plane. Equivalent to Rms(array, axis = None)\n",
    "    '''\n",
    "    if sections:\n",
    "        axis = (1,2)\n",
    "    if norm:\n",
    "        im = im - np.mean(im, axis = axis, keepdims = True)\n",
    "\n",
    "    return np.sqrt(np.mean(np.square(im), axis = axis))"
   ]
  },
  {
   "cell_type": "code",
   "execution_count": null,
   "id": "c2235e27-7147-4fd9-b82b-04d90f4aec4c",
   "metadata": {},
   "outputs": [
    {
     "data": {
      "text/plain": [
       "(0.0006332906519311293,\n",
       " array([0.00032491, 0.00049684, 0.0002654 , 0.00028618, 0.0004129 ]))"
      ]
     },
     "execution_count": null,
     "metadata": {},
     "output_type": "execute_result"
    }
   ],
   "source": [
    "(Sms(image),Sms(sections,sections=True)[:5])"
   ]
  },
  {
   "cell_type": "code",
   "execution_count": null,
   "id": "e291a694-9d9d-44c5-a58b-69b35d8da7c5",
   "metadata": {},
   "outputs": [],
   "source": [
    "#| export\n",
    "def Ssk(im, #Numpy array or arraylike. typically (m,n) for 1 array or (k,m,n) for k (m,n) stacked arrays\n",
    "        norm = True,\n",
    "        axis = None,\n",
    "        sections = False, #If true, calculates the Ssk of the stack of images, (i.e. sets axis = (1,2))\n",
    "        **kwargs\n",
    "       ):\n",
    "    '''\n",
    "    Calculates the Skew of the section. Equivalent to Rsk(im, axis = None) for an (m,n) array\n",
    "    '''\n",
    "    if sections:\n",
    "        axis = (1,2)\n",
    "    if norm:\n",
    "        im = im - np.mean(im, axis = axis, keepdims = True)\n",
    "     \n",
    "    return skew(a = im, axis=axis, **kwargs)\n",
    "        \n",
    "        "
   ]
  },
  {
   "cell_type": "code",
   "execution_count": null,
   "id": "611c541e-519d-4aba-b20e-df97cfc2e102",
   "metadata": {},
   "outputs": [
    {
     "data": {
      "text/plain": [
       "(0.09500122790758757,\n",
       " array([-0.09524635,  0.28831296,  0.70445168, -0.75446586, -0.02569195]))"
      ]
     },
     "execution_count": null,
     "metadata": {},
     "output_type": "execute_result"
    }
   ],
   "source": [
    "(Ssk(image),Ssk(sections, sections = True)[:5])"
   ]
  },
  {
   "cell_type": "code",
   "execution_count": null,
   "id": "f312914e-61e3-4c02-89ff-38acdca97389",
   "metadata": {},
   "outputs": [],
   "source": [
    "#| export\n",
    "def Sku(im, #Numpy array or arraylike. typically (m,n) for 1 array or (k,m,n) for k (m,n) stacked arrays\n",
    "        norm = True,\n",
    "        axis = None,\n",
    "        sections = False, #If true, calculates the Sku of the stack of images, (i.e. sets axis = (1,2))\n",
    "        **kwargs #Keyword arguments to modify the behavior of scipy.stats:kurtosis\n",
    "       ):\n",
    "    '''\n",
    "    Calculates the Kurtosis of the section. Equivalent to Rku(im, axis = None) for an (m,n) array\n",
    "    '''\n",
    "    if sections:\n",
    "        axis = (1,2)\n",
    "    if norm:\n",
    "        im = im - np.mean(im, axis = axis, keepdims = True)\n",
    "     \n",
    "    return kurtosis(a = im, axis=axis, **kwargs)"
   ]
  },
  {
   "cell_type": "code",
   "execution_count": null,
   "id": "88b19a89-ba33-4240-acea-f381d15abedb",
   "metadata": {},
   "outputs": [
    {
     "data": {
      "text/plain": [
       "(1.705202900719974,\n",
       " array([-1.06809856, -0.88850324,  1.07656068, -0.61641668, -0.91538318]))"
      ]
     },
     "execution_count": null,
     "metadata": {},
     "output_type": "execute_result"
    }
   ],
   "source": [
    "(Sku(image),Sku(sections,sections=True)[:5])"
   ]
  },
  {
   "cell_type": "code",
   "execution_count": null,
   "id": "24b4f47b-9b77-43cc-9048-1afe151c9199",
   "metadata": {},
   "outputs": [
    {
     "data": {
      "text/plain": [
       "array([[[1., 1., 1., 1.],\n",
       "        [1., 1., 1., 1.],\n",
       "        [1., 1., 1., 1.],\n",
       "        [1., 1., 1., 1.]],\n",
       "\n",
       "       [[2., 2., 2., 2.],\n",
       "        [2., 2., 2., 2.],\n",
       "        [2., 2., 2., 2.],\n",
       "        [2., 2., 2., 2.]],\n",
       "\n",
       "       [[3., 3., 3., 3.],\n",
       "        [3., 3., 3., 3.],\n",
       "        [3., 3., 3., 3.],\n",
       "        [3., 3., 3., 3.]],\n",
       "\n",
       "       [[2., 2., 2., 2.],\n",
       "        [2., 2., 2., 2.],\n",
       "        [2., 2., 2., 2.],\n",
       "        [2., 2., 2., 2.]]])"
      ]
     },
     "execution_count": null,
     "metadata": {},
     "output_type": "execute_result"
    }
   ],
   "source": [
    "array_1 = np.ones((4,4))\n",
    "array_2 = np.ones((4,4)) * 2\n",
    "array_3 = np.ones((4,4)) * 3\n",
    "stack1232 = np.array([array_1, array_2, array_3,array_2])\n",
    "stack1232"
   ]
  },
  {
   "cell_type": "code",
   "execution_count": null,
   "id": "ac7a0d6b-c9b0-410e-8714-4db329601284",
   "metadata": {},
   "outputs": [],
   "source": [
    "#| export\n",
    "def Sp(im, #Numpy array or arraylike. typically (m,n) for 1 array or (k,m,n) for k (m,n) stacked arrays\n",
    "        norm = True,\n",
    "        axis = None,\n",
    "        sections = False, #If true, calculates the Sp of the stack of images, (i.e. sets axis = (1,2))\n",
    "        **kwargs #keyword arguments to modify behaviour of numpy.amax\n",
    "       ):\n",
    "    '''\n",
    "    Calculates the maximum peak height of the surface\n",
    "    '''\n",
    "    if sections: \n",
    "        axis = (1,2)\n",
    "    if norm:\n",
    "        im = im - np.mean(im, axis = axis, keepdims = True)\n",
    "    \n",
    "    return np.amax(im, axis = axis, **kwargs)"
   ]
  },
  {
   "cell_type": "code",
   "execution_count": null,
   "id": "4b3f4e42-5324-4a3b-864f-47a544b36b01",
   "metadata": {},
   "outputs": [],
   "source": [
    "test_eq(Sp(np.array([2,2,4,4,-6,6]), norm=False), 6)\n",
    "test_eq(Sp(np.array([0,0,0,0,0,0]), norm=True), 0)\n",
    "test_eq(Sp(stack1232, norm=False, sections = True), np.array([1,2,3,2]))"
   ]
  },
  {
   "cell_type": "code",
   "execution_count": null,
   "id": "7e3aa8fd-c17d-49a9-be2a-70c86a99ae8a",
   "metadata": {},
   "outputs": [],
   "source": [
    "#| export\n",
    "def Sv(im, #Numpy array or arraylike. typically (m,n) for 1 array or (k,m,n) for k (m,n) stacked arrays\n",
    "       norm = True,\n",
    "       axis = None,\n",
    "       sections = False, #If true, calculates the Sv of the stack of images , (i.e. sets axis = (1,2))\n",
    "       **kwargs #keyword arguments to modify behaviour of numpy.amin\n",
    "      ):\n",
    "    '''\n",
    "    Calculates the absolute maximum pit depth of the surface\n",
    "    '''\n",
    "    if sections:\n",
    "        axis = (1,2)\n",
    "    if norm:\n",
    "        im = im - np.mean(im, axis = axis, keepdims = True)\n",
    "    \n",
    "    return abs(np.amin(im,axis = axis, **kwargs))"
   ]
  },
  {
   "cell_type": "code",
   "execution_count": null,
   "id": "72808373-e7e6-44fa-bb2c-33207a1b4cd1",
   "metadata": {},
   "outputs": [],
   "source": [
    "test_eq(Sv(np.array([0,0,0,0,-5]), norm = False), 5) \n",
    "test_eq(Sv(np.array([1,2,3,2,2,1]), norm = False), 1)\n",
    "test_eq(Sv(stack1232, norm=False, sections = True), np.array([1,2,3,2]))"
   ]
  },
  {
   "cell_type": "code",
   "execution_count": null,
   "id": "da841476-0164-4e91-ba17-1fecff48c30b",
   "metadata": {},
   "outputs": [],
   "source": [
    "#| export\n",
    "def Sz(im, #Numpy array or arraylike, typically (m,n) for 1 array or (k,m,n) for k (m,n) stacked arrays\n",
    "       norm = True,\n",
    "       axis = None,\n",
    "       sections = False, #If true, calculates the Sz of the stack of images, (i.e. sets axis = (1,2))\n",
    "       **kwargs #keyword arguments to be passed to numpy.ptp\n",
    "      ):\n",
    "    '''\n",
    "    Calculates the maximum height (max peak + absolute max pit) of the surface. Synonymous with the range of height\n",
    "    values or peak to peak. \n",
    "    '''\n",
    "    if sections:\n",
    "        axis = (1,2)\n",
    "    if norm:\n",
    "        im = im - np.mean(im, axis = axis, keepdims = True)\n",
    "        \n",
    "    return np.ptp(im, axis = axis, **kwargs)\n",
    "    "
   ]
  },
  {
   "cell_type": "code",
   "execution_count": null,
   "id": "8f1a59ec-da39-4992-a1bc-eb48df19d3f7",
   "metadata": {},
   "outputs": [],
   "source": [
    "test_eq(Sz(np.array([0,0,0,5]), norm = False), 5)\n",
    "test_eq(Sz(np.array([-5,-1,-1,-1]), norm = False), 4)\n",
    "test_eq(Sz(stack1232, norm = False, sections = True,), np.array([0,0,0,0])) \n",
    "test_eq(Sz(np.array([-5,-1,-1,-1,-1])), Sz(np.array([5,1,1,1,1])))"
   ]
  },
  {
   "cell_type": "markdown",
   "id": "8ca5cfc0-8e7e-4976-86f0-d76dfe501211",
   "metadata": {},
   "source": [
    "### Spatial Parameters"
   ]
  },
  {
   "cell_type": "markdown",
   "id": "aae38f43-08ae-4eea-a5b9-3eff42b01422",
   "metadata": {},
   "source": [
    "Autocorrelation is the dleayed correlation of a signal with itself. In this case our \"signal\" is the height data."
   ]
  },
  {
   "cell_type": "markdown",
   "id": "b307b0eb-d9bf-4db6-bc84-d889e4486461",
   "metadata": {},
   "source": [
    "To generate the autocorrelation function and visualise it we can use the scipy correlate function."
   ]
  },
  {
   "cell_type": "code",
   "execution_count": null,
   "id": "9f527dcd-c49c-4742-9dc8-912da77280cb",
   "metadata": {},
   "outputs": [
    {
     "data": {
      "image/png": "[encoded data removed]",
      "text/plain": [
       "<Figure size 432x288 with 1 Axes>"
      ]
     },
     "metadata": {
      "needs_background": "light"
     },
     "output_type": "display_data"
    }
   ],
   "source": [
    "im_mean = image - np.mean(image,axis=None, keepdims = True)\n",
    "im_cor = correlate(im_mean,im_mean, mode = 'same')\n",
    "plt.imshow(im_cor)\n",
    "plt.show()"
   ]
  },
  {
   "cell_type": "code",
   "execution_count": null,
   "id": "41c8ad56-11b3-47ce-bb2f-03850b178389",
   "metadata": {},
   "outputs": [],
   "source": [
    "arr_100 = np.arange(100) - np.mean(np.arange(100))\n",
    "norm_arr100 = arr_100 / np.linalg.norm(arr_100)"
   ]
  },
  {
   "cell_type": "code",
   "execution_count": null,
   "id": "28ff8fa6-25ad-4125-9981-4445002501e4",
   "metadata": {},
   "outputs": [],
   "source": [
    "cor_arr100 =  correlate(norm_arr100,norm_arr100,mode='full')"
   ]
  },
  {
   "cell_type": "code",
   "execution_count": null,
   "id": "480db2a8-2c03-492c-8807-860ffcb43268",
   "metadata": {},
   "outputs": [
    {
     "data": {
      "image/png": "[encoded data removed]",
      "text/plain": [
       "<Figure size 432x288 with 1 Axes>"
      ]
     },
     "metadata": {
      "needs_background": "light"
     },
     "output_type": "display_data"
    }
   ],
   "source": [
    "im_cor_norm = im_cor / np.linalg.norm(im_cor)\n",
    "plt.imshow(im_cor_norm)\n",
    "plt.show()"
   ]
  },
  {
   "cell_type": "code",
   "execution_count": null,
   "id": "60314654-b245-4c17-bd8f-e8eb373fe2d5",
   "metadata": {},
   "outputs": [
    {
     "data": {
      "text/plain": [
       "(0.018986741520343565, 0.01562313803397524, -0.003363603486368326, (501, 501))"
      ]
     },
     "execution_count": null,
     "metadata": {},
     "output_type": "execute_result"
    }
   ],
   "source": [
    "(np.ptp(im_cor_norm),np.max(im_cor_norm),np.min(im_cor_norm),im_cor_norm.shape)"
   ]
  },
  {
   "cell_type": "code",
   "execution_count": null,
   "id": "a255158a-8e2a-49e3-a395-08db6ef1b1e9",
   "metadata": {},
   "outputs": [
    {
     "data": {
      "text/plain": [
       "(0.12233867563141662, 0.10066572056271189, -0.021672955068704737, (501, 501))"
      ]
     },
     "execution_count": null,
     "metadata": {},
     "output_type": "execute_result"
    }
   ],
   "source": [
    "(np.ptp(im_cor),np.max(im_cor),np.min(im_cor),im_cor.shape)"
   ]
  },
  {
   "cell_type": "code",
   "execution_count": null,
   "id": "709d0673-b849-429b-b767-abcd7338f875",
   "metadata": {},
   "outputs": [],
   "source": [
    "def Sal(im, #Numpy array or arraylike, typically (m,n) for 1 array or (k,m,n) for k (m,n) stacked arrays\n",
    "       norm = True, #Normalize the input array\n",
    "       norm_how = 'center', #How to normalize the data, see `normalize`,\n",
    "       axis = None, \n",
    "       sections = False, #If true, calculates the Sal of the stack of images, (i.e. sets axis = (1,2))\n",
    "       s = 0.2, #Default decay value.\n",
    "       scale = True, #Scale the respective array via im / np.linalg.norm(im)\n",
    "       **kwargs #keyword arguments to be passed to numpy.ptp\n",
    "      ):\n",
    "    '''\n",
    "    Calculates the autocorellation length parameter. Defined as the horizontal distance of the autocorellation function\n",
    "    which has the fastest decay to s, with  0 <= s <= 1. \n",
    "    Can determine the presense of lay, the direction of the predominant surface pattern. \n",
    "    '''\n",
    "    if sections:\n",
    "        axis = (1,2)\n",
    "    \n",
    "    if norm:\n",
    "        normalize(im, axis = axis, how = norm_how)\n",
    "        \n",
    "    #Calculate and normalize autocorrelation results for the array to (-1,1) range\n",
    "    im_corr = correlate(im,im,mode = 'same')\n",
    "    im_norm_corr = normalize(im_corr, axis = axis, how = 'minmax')     \n",
    "    \n",
    "    #Find the smallest distance where autocorrelation function is <= s\n",
    "    dists = distance_matrix(im_norm_corr.shape)\n",
    "    \n",
    "    dists_where = np.where(im_norm_corr <= s, dists, np.NaN)\n",
    "    \n",
    "    return np.nanmin(dists_where)\n",
    "    \n",
    "    #TODO test with stack of images\n",
    "    #Find the distance which is lowest that matches <= s \n"
   ]
  },
  {
   "cell_type": "code",
   "execution_count": null,
   "id": "34f236cc-d1db-4853-9f3e-a4e294188c6d",
   "metadata": {},
   "outputs": [
    {
     "data": {
      "text/plain": [
       "array([5, 6, 7])"
      ]
     },
     "execution_count": null,
     "metadata": {},
     "output_type": "execute_result"
    }
   ],
   "source": [
    "a_10 = np.arange(10) - 2\n",
    "a_10[a_10>=5]"
   ]
  },
  {
   "cell_type": "code",
   "execution_count": null,
   "id": "51bb6aa5-19e4-4920-af37-fd181f36705e",
   "metadata": {},
   "outputs": [
    {
     "data": {
      "text/plain": [
       "array([[[ 0,  1,  2,  3],\n",
       "        [ 4,  5,  6,  7],\n",
       "        [ 8,  9, 10, 11],\n",
       "        [12, 13, 14, 15]],\n",
       "\n",
       "       [[16, 17, 18, 19],\n",
       "        [20, 21, 22, 23],\n",
       "        [24, 25, 26, 27],\n",
       "        [28, 29, 30, 31]],\n",
       "\n",
       "       [[32, 33, 34, 35],\n",
       "        [36, 37, 38, 39],\n",
       "        [40, 41, 42, 43],\n",
       "        [44, 45, 46, 47]]])"
      ]
     },
     "execution_count": null,
     "metadata": {},
     "output_type": "execute_result"
    }
   ],
   "source": [
    "test_stack = np.arange(3*4*4).reshape((3,4,4))\n",
    "test_stack"
   ]
  },
  {
   "cell_type": "code",
   "execution_count": null,
   "id": "ddf788a2-96bd-4f6f-a4d6-0d276876368c",
   "metadata": {},
   "outputs": [],
   "source": []
  },
  {
   "cell_type": "code",
   "execution_count": null,
   "id": "2622e862-0018-4306-8005-eb03dc1b8852",
   "metadata": {},
   "outputs": [
    {
     "data": {
      "text/plain": [
       "array([[[-7.5, -6.5, -5.5, -4.5],\n",
       "        [-3.5, -2.5, -1.5, -0.5],\n",
       "        [ 0.5,  1.5,  2.5,  3.5],\n",
       "        [ 4.5,  5.5,  6.5,  7.5]],\n",
       "\n",
       "       [[-7.5, -6.5, -5.5, -4.5],\n",
       "        [-3.5, -2.5, -1.5, -0.5],\n",
       "        [ 0.5,  1.5,  2.5,  3.5],\n",
       "        [ 4.5,  5.5,  6.5,  7.5]],\n",
       "\n",
       "       [[-7.5, -6.5, -5.5, -4.5],\n",
       "        [-3.5, -2.5, -1.5, -0.5],\n",
       "        [ 0.5,  1.5,  2.5,  3.5],\n",
       "        [ 4.5,  5.5,  6.5,  7.5]]])"
      ]
     },
     "execution_count": null,
     "metadata": {},
     "output_type": "execute_result"
    }
   ],
   "source": [
    "test_stack - np.mean(test_stack,axis = (1,2), keepdims = True)"
   ]
  },
  {
   "cell_type": "code",
   "execution_count": null,
   "id": "19c4221e-f69b-4a09-b29a-277c89e73d07",
   "metadata": {},
   "outputs": [
    {
     "data": {
      "text/plain": [
       "array([0, 1, 2, 3, 4, 5, 6, 7, 8, 9])"
      ]
     },
     "execution_count": null,
     "metadata": {},
     "output_type": "execute_result"
    }
   ],
   "source": [
    "a_10 = np.arange(10)\n",
    "a_10"
   ]
  },
  {
   "cell_type": "code",
   "execution_count": null,
   "id": "f68222a0-9732-4504-a78a-87741e018464",
   "metadata": {},
   "outputs": [
    {
     "data": {
      "text/plain": [
       "array([10, 11, 12, 13, 14, 15, 16, 17, 18, 19])"
      ]
     },
     "execution_count": null,
     "metadata": {},
     "output_type": "execute_result"
    }
   ],
   "source": [
    "a_20 = np.arange(10,20)\n",
    "a_20"
   ]
  },
  {
   "cell_type": "code",
   "execution_count": null,
   "id": "7b41cdea-78e8-4a6b-9c77-95fba90f29a9",
   "metadata": {},
   "outputs": [
    {
     "data": {
      "text/plain": [
       "array([ 0.,  1.,  2.,  3.,  4., nan, nan, nan, nan, nan])"
      ]
     },
     "execution_count": null,
     "metadata": {},
     "output_type": "execute_result"
    }
   ],
   "source": [
    "np.where(a_10>=5, np.NaN, a_10)"
   ]
  },
  {
   "cell_type": "code",
   "execution_count": null,
   "id": "8dda05a8-b64f-46ac-960d-7aafa4d74e54",
   "metadata": {},
   "outputs": [
    {
     "data": {
      "text/plain": [
       "array([[ 0,  1,  2,  3],\n",
       "       [ 4,  5,  6,  7],\n",
       "       [ 8,  9, 10, 11],\n",
       "       [12, 13, 14, 15]])"
      ]
     },
     "execution_count": null,
     "metadata": {},
     "output_type": "execute_result"
    }
   ],
   "source": [
    "a_16 = np.arange(16).reshape(4,4)\n",
    "a_16"
   ]
  },
  {
   "cell_type": "code",
   "execution_count": null,
   "id": "9efa4b2c-61d1-421a-a8f3-8fff434d0099",
   "metadata": {},
   "outputs": [
    {
     "data": {
      "text/plain": [
       "array([[2.82842712, 2.23606798, 2.        , 2.23606798],\n",
       "       [2.23606798, 1.41421356, 1.        , 1.41421356],\n",
       "       [2.        , 1.        , 0.        , 1.        ],\n",
       "       [2.23606798, 1.41421356, 1.        , 1.41421356]])"
      ]
     },
     "execution_count": null,
     "metadata": {},
     "output_type": "execute_result"
    }
   ],
   "source": [
    "a_dist = distance_matrix(a_16.shape)\n",
    "a_dist"
   ]
  },
  {
   "cell_type": "code",
   "execution_count": null,
   "id": "cd5725bc-9ec1-4631-b082-9c54cd652aa6",
   "metadata": {},
   "outputs": [
    {
     "data": {
      "text/plain": [
       "1.0"
      ]
     },
     "execution_count": null,
     "metadata": {},
     "output_type": "execute_result"
    }
   ],
   "source": [
    "a_where = np.where(a_16>=13, a_dist, np.NaN)\n",
    "np.nanmin(a_where)"
   ]
  },
  {
   "cell_type": "code",
   "execution_count": null,
   "id": "61122d21-b76c-4208-8a0d-eb333ffdcd96",
   "metadata": {},
   "outputs": [],
   "source": [
    "#| hide\n",
    "from nbdev import nbdev_export\n",
    "nbdev_export()"
   ]
  }
 ],
 "metadata": {
  "kernelspec": {
   "display_name": "Python 3 (ipykernel)",
   "language": "python",
   "name": "python3"
  }
 },
 "nbformat": 4,
 "nbformat_minor": 5
}
